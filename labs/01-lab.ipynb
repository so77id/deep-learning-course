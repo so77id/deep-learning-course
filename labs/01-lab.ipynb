{
 "cells": [
  {
   "cell_type": "markdown",
   "id": "100fe319-0f81-4099-bd7d-45b83b0e215a",
   "metadata": {},
   "source": [
    "### Introducción a NumPy\n",
    "\n",
    "NumPy es una biblioteca central en Python utilizada para la computación científica. Proporciona un objeto de array multidimensional, y es esencial para el manejo de datos numéricos y la realización de operaciones matemáticas complejas.\n",
    "\n",
    "#### Importando NumPy\n",
    "\n",
    "Para comenzar a utilizar NumPy, primero debemos importarlo. Esto se hace comúnmente con el alias `np` para simplificar el código.\n"
   ]
  },
  {
   "cell_type": "code",
   "execution_count": 1,
   "id": "9e89156f-cfdf-413f-8127-68b8d2f18ec6",
   "metadata": {},
   "outputs": [],
   "source": [
    "import numpy as np"
   ]
  },
  {
   "cell_type": "markdown",
   "id": "4d94eaff-31da-4b08-8873-1b29ec4486ce",
   "metadata": {},
   "source": [
    "#### Creando Arrays en NumPy\n",
    "\n",
    "NumPy permite crear arrays de una manera muy eficiente. Vamos a explorar cómo crear diferentes tipos de arrays, incluyendo vectores fila, vectores columna, y matrices.\n"
   ]
  },
  {
   "cell_type": "code",
   "execution_count": 4,
   "id": "7e394c76-69e9-4df6-9c91-5ce786580e0a",
   "metadata": {},
   "outputs": [
    {
     "name": "stdout",
     "output_type": "stream",
     "text": [
      "Row vector: [1 2 3]\n",
      "Column vector:\n",
      " [[1]\n",
      " [2]\n",
      " [3]]\n",
      "Matrix:\n",
      " [[1 2 3]\n",
      " [4 5 6]]\n"
     ]
    }
   ],
   "source": [
    "# Create a row vector\n",
    "row_vector = np.array([1, 2, 3])\n",
    "print(\"Row vector:\", row_vector)\n",
    "\n",
    "# Create a column vector\n",
    "column_vector = np.array([[1], [2], [3]])\n",
    "print(\"Column vector:\\n\", column_vector)\n",
    "\n",
    "# Create a matrix\n",
    "matrix = np.array([[1, 2, 3], [4, 5, 6]])\n",
    "print(\"Matrix:\\n\", matrix)\n"
   ]
  },
  {
   "cell_type": "markdown",
   "id": "0b216f83-5218-4a37-96d8-5d305b306ca1",
   "metadata": {},
   "source": [
    "#### Dimensiones de un Array\n",
    "\n",
    "El `shape` de un array nos dice cuántos elementos contiene en cada dimensión. Vamos a explorar esto con nuestros arrays.\n"
   ]
  },
  {
   "cell_type": "code",
   "execution_count": 5,
   "id": "6de5e278-f6c3-4e41-b24c-15530460d10c",
   "metadata": {},
   "outputs": [
    {
     "name": "stdout",
     "output_type": "stream",
     "text": [
      "Shape of row vector: (3,)\n",
      "Shape of column vector: (3, 1)\n",
      "Shape of matrix: (2, 3)\n"
     ]
    }
   ],
   "source": [
    "print(\"Shape of row vector:\", row_vector.shape)\n",
    "print(\"Shape of column vector:\", column_vector.shape)\n",
    "print(\"Shape of matrix:\", matrix.shape)\n"
   ]
  },
  {
   "cell_type": "markdown",
   "id": "66091b1c-67f0-4637-9c44-a3e618164742",
   "metadata": {},
   "source": [
    "La salida de `shape` proporciona información vital sobre la estructura del array. \n",
    "Por ejemplo:\n",
    "- El vector fila `shape` muestra (3,), indicando que tiene 3 elementos en una dimensión.\n",
    "- El vector columna muestra (3, 1), indicando 3 elementos en una dimensión y 1 en otra.\n",
    "- La matriz muestra (2, 3), indicando 2 filas y 3 columnas.\n",
    "\n",
    "#### Tensor en NumPy\n",
    "\n",
    "Un tensor es una generalización de vectores y matrices y se puede considerar como un array de n-dimensiones. Por ejemplo:\n",
    "- Un tensor de rango 0 es un escalar (un solo número).\n",
    "- Un tensor de rango 1 es un vector (un arreglo de números).\n",
    "- Un tensor de rango 2 es una matriz (un arreglo bidimensional de números).\n",
    "- Los tensores de rango superior (3, 4, etc.) son estructuras con más dimensiones.\n"
   ]
  },
  {
   "cell_type": "code",
   "execution_count": 10,
   "id": "e3024114-5ec4-4fc7-84a8-de8376a23be1",
   "metadata": {},
   "outputs": [
    {
     "name": "stdout",
     "output_type": "stream",
     "text": [
      "3D tensor:\n",
      " [[[1. 1.]\n",
      "  [1. 1.]]\n",
      "\n",
      " [[1. 1.]\n",
      "  [1. 1.]]]\n",
      "Shape of 3D tensor: (2, 2, 2)\n"
     ]
    }
   ],
   "source": [
    "# Create a rank 3 tensor\n",
    "tensor_3d = np.ones((2, 2, 2))\n",
    "print(\"3D tensor:\\n\", tensor_3d)\n",
    "print(\"Shape of 3D tensor:\", tensor_3d.shape)"
   ]
  },
  {
   "cell_type": "markdown",
   "id": "714ce0d3-d494-4da7-b109-28261fb7a8ad",
   "metadata": {},
   "source": [
    "Los tensores con mayor rango tienen dimensiones adicionales en su `shape`. Un tensor 3D tiene tres dimensiones en su `shape`, y un tensor 4D tiene cuatro. Estas estructuras son fundamentales en el aprendizaje profundo y otras áreas de análisis numérico."
   ]
  },
  {
   "cell_type": "markdown",
   "id": "68a350b8-9f9f-4c66-9a97-1ebfa501d1f0",
   "metadata": {},
   "source": [
    "### Creación de Tensores con Diferentes Funciones en NumPy\n",
    "\n",
    "NumPy ofrece varias funciones para crear arrays o tensores de diferentes dimensiones. Vamos a explorar cómo podemos crear tensores 1D, 2D y 3D utilizando diferentes funciones como `ones`, `zeros`, `arange`, y otras.\n",
    "\n",
    "#### `np.arange(stop)`\n",
    "- **Signature**: `np.arange(stop)`\n",
    "- **Input**:\n",
    "  - `stop`: Valor final de la secuencia (el valor inicial por defecto es 0 y el paso por defecto es 1).\n",
    "- **Descripción**: Genera valores equiespaciados dentro de un rango dado desde 0 hasta `stop - 1`.\n"
   ]
  },
  {
   "cell_type": "code",
   "execution_count": 24,
   "id": "07a10f54-4d56-4d28-8d43-bfedb671410d",
   "metadata": {},
   "outputs": [
    {
     "name": "stdout",
     "output_type": "stream",
     "text": [
      "Vector creado con np.arange:[0 1 2 3 4], shape: (5,)\n",
      "\n",
      "Matriz creada con np.arange:\n",
      " [[ 0  1  2  3]\n",
      " [ 4  5  6  7]\n",
      " [ 8  9 10 11]]\n",
      "shape: (3, 4)\n"
     ]
    }
   ],
   "source": [
    "# Ejemplo de np.arange con un solo valor\n",
    "arange_single_value_example = np.arange(5)\n",
    "print(f\"Vector creado con np.arange:{arange_single_value_example}, shape: {arange_single_value_example.shape}\\n\")\n",
    "\n",
    "# Crear una matriz usando np.arange y np.reshape\n",
    "arange_matrix_example = np.arange(12).reshape(3, 4)\n",
    "print(f\"Matriz creada con np.arange:\\n {arange_matrix_example}\")\n",
    "print(f\"shape: {arange_matrix_example.shape}\")"
   ]
  },
  {
   "cell_type": "markdown",
   "id": "d757babd-271e-47df-b9ba-32ec0aa86b06",
   "metadata": {},
   "source": [
    "#### `np.linspace(start, stop, num)`\n",
    "- **Signature**: `np.linspace(start, stop, num=50)`\n",
    "- **Input**:\n",
    "  - `start`: Valor inicial de la secuencia.\n",
    "  - `stop`: Valor final de la secuencia.\n",
    "  - `num`: Número de elementos generados.\n",
    "- **Descripción**: Devuelve números equiespaciados dentro de un rango específico.\n"
   ]
  },
  {
   "cell_type": "code",
   "execution_count": 25,
   "id": "433e7aa9-3bde-4564-9367-83c4683be82d",
   "metadata": {},
   "outputs": [
    {
     "name": "stdout",
     "output_type": "stream",
     "text": [
      "Vector creado con np.linspace:[ 0.   2.5  5.   7.5 10. ], shape: (5,)\n"
     ]
    }
   ],
   "source": [
    "# Ejemplo de np.linspace\n",
    "linspace_example = np.linspace(0, 10, 5)\n",
    "print(f\"Vector creado con np.linspace:{linspace_example}, shape: {linspace_example.shape}\")\n"
   ]
  },
  {
   "cell_type": "markdown",
   "id": "08356faf-8e59-421a-9b8d-27d05a18a43f",
   "metadata": {},
   "source": [
    "#### `np.full(shape, fill_value)`\n",
    "- **Signature**: `np.full(shape, fill_value)`\n",
    "- **Input**:\n",
    "  - `shape`: Dimensiones del array.\n",
    "  - `fill_value`: Valor para llenar el array.\n",
    "- **Descripción**: Crea un array con un tamaño y forma específicos, lleno de un valor dado.\n"
   ]
  },
  {
   "cell_type": "code",
   "execution_count": 31,
   "id": "b559171e-1e89-450c-a8ac-fc2ff2ad3c78",
   "metadata": {},
   "outputs": [
    {
     "name": "stdout",
     "output_type": "stream",
     "text": [
      "Vector creado np.full:\n",
      " [10 10 10]\n",
      "Matriz creada np.full:\n",
      " [[7 7 7]\n",
      " [7 7 7]]\n"
     ]
    }
   ],
   "source": [
    "# Ejemplo vector de np.full\n",
    "vector_full = np.full((3), 10)\n",
    "print(f\"Vector creado np.full:\\n {vector_full}\")\n",
    "\n",
    "# Ejemplo Matriz de np.full\n",
    "matrix_full = np.full((2, 3), 7)\n",
    "print(f\"Matriz creada np.full:\\n {matrix_full}\")"
   ]
  },
  {
   "cell_type": "markdown",
   "id": "943fb443-a03e-46cb-ac99-ee7141e6e4df",
   "metadata": {},
   "source": [
    "#### `np.eye(N, M=None, k=0)`\n",
    "- **Signature**: `np.eye(N, M=None, k=0)`\n",
    "- **Input**:\n",
    "  - `N`: Número de filas.\n",
    "  - `M`: Número de columnas, opcional.\n",
    "  - `k`: Índice de la diagonal (0 es la diagonal principal).\n",
    "- **Descripción**: Devuelve una matriz 2D con unos en la diagonal y ceros en el resto.\n"
   ]
  },
  {
   "cell_type": "code",
   "execution_count": 34,
   "id": "b34a1eb4-dd69-4eac-8cdb-8a073db3ff4d",
   "metadata": {},
   "outputs": [
    {
     "name": "stdout",
     "output_type": "stream",
     "text": [
      "np.eye:\n",
      "[[1. 0. 0.]\n",
      " [0. 1. 0.]\n",
      " [0. 0. 1.]]\n",
      "\n",
      "np.eye(3, k=1):\n",
      "[[0. 1. 0.]\n",
      " [0. 0. 1.]\n",
      " [0. 0. 0.]]\n"
     ]
    }
   ],
   "source": [
    "# Ejemplo de np.eye\n",
    "eye_example = np.eye(3)\n",
    "print(f\"np.eye:\\n{eye_example}\\n\", )\n",
    "\n",
    "# Ejemplo de np.eye\n",
    "eye_example = np.eye(3, k=1)\n",
    "print(f\"np.eye(3, k=1):\\n{eye_example}\")\n"
   ]
  },
  {
   "cell_type": "markdown",
   "id": "e73d491c-1c29-4812-ba63-9595a24a4bc8",
   "metadata": {},
   "source": [
    "#### `np.empty(shape)`\n",
    "- **Signature**: `np.empty(shape)`\n",
    "- **Input**:\n",
    "  - `shape`: Dimensiones del array.\n",
    "- **Descripción**: Crea un array sin inicializar de una forma dada. Los contenidos serán aleatorios y dependerán del estado de la memoria.\n"
   ]
  },
  {
   "cell_type": "code",
   "execution_count": 40,
   "id": "2fe7c9bb-7ea2-4d5d-87f0-a852d2bd1b0e",
   "metadata": {},
   "outputs": [
    {
     "name": "stdout",
     "output_type": "stream",
     "text": [
      "np.empty:\n",
      "[[0.0e+000 4.9e-324 9.9e-324 1.5e-323]\n",
      " [2.0e-323 2.5e-323 3.0e-323 3.5e-323]\n",
      " [4.0e-323 4.4e-323 4.9e-323 5.4e-323]]\n"
     ]
    }
   ],
   "source": [
    "# Ejemplo de np.empty\n",
    "empty_example = np.empty((3, 4))\n",
    "print(f\"np.empty:\\n{empty_example}\")"
   ]
  },
  {
   "cell_type": "markdown",
   "id": "3f111e20-af33-4093-9509-fe5b0da49907",
   "metadata": {},
   "source": [
    "#### `np.tile(A, reps)`\n",
    "- **Signature**: `np.tile(A, reps)`\n",
    "- **Input**:\n",
    "  - `A`: Array de entrada.\n",
    "  - `reps`: Número de repeticiones de `A` en cada dimensión.\n",
    "- **Descripción**: Construye un array repitiendo `A` el número de veces especificado por `reps`.\n"
   ]
  },
  {
   "cell_type": "code",
   "execution_count": 42,
   "id": "06da6ed6-4466-4a50-a58e-8e1e327376a0",
   "metadata": {},
   "outputs": [
    {
     "name": "stdout",
     "output_type": "stream",
     "text": [
      "np.tile:\n",
      "[[1 2 1 2]\n",
      " [3 4 3 4]\n",
      " [1 2 1 2]\n",
      " [3 4 3 4]]\n"
     ]
    }
   ],
   "source": [
    "# Ejemplo de np.tile\n",
    "tile_example = np.tile(np.array([[1, 2], [3, 4]]), (2, 2))\n",
    "print(f\"np.tile:\\n{tile_example}\")\n"
   ]
  },
  {
   "cell_type": "markdown",
   "id": "e14af326-e02d-4490-a543-8ef7d67722c4",
   "metadata": {},
   "source": [
    "#### `np.repeat(a, repeats, axis=None)`\n",
    "- **Signature**: `np.repeat(a, repeats, axis=None)`\n",
    "- **Input**:\n",
    "  - `a`: Array de entrada.\n",
    "  - `repeats`: Número de repeticiones de cada elemento.\n",
    "  - `axis`: Eje a lo largo del cual repetir los valores.\n",
    "- **Descripción**: Repite los elementos de `a` el número de veces indicado en `repeats`.\n"
   ]
  },
  {
   "cell_type": "code",
   "execution_count": 51,
   "id": "fae04579-9fe8-49b6-acb6-b0c3586a1a9b",
   "metadata": {},
   "outputs": [
    {
     "name": "stdout",
     "output_type": "stream",
     "text": [
      "np.repeat:\n",
      "[1 1 2 2 3 3]\n"
     ]
    }
   ],
   "source": [
    "# Ejemplo de np.repeat\n",
    "repeat_example = np.repeat(np.array([1, 2, 3]), 2, axis=0)\n",
    "print(f\"np.repeat:\\n{repeat_example}\")\n"
   ]
  },
  {
   "cell_type": "markdown",
   "id": "45bbab08-7c5d-495d-a937-cf25d938d7e2",
   "metadata": {},
   "source": [
    "Estas herramientas de NumPy son fundamentales para la manipulación de arrays y la preparación de datos en la computación científica y el aprendizaje automático."
   ]
  },
  {
   "cell_type": "code",
   "execution_count": null,
   "id": "836e1f16-183d-4cb8-b49e-f2f859820197",
   "metadata": {},
   "outputs": [],
   "source": []
  },
  {
   "cell_type": "code",
   "execution_count": null,
   "id": "4167a480-76fc-4eee-bee5-a733a5150944",
   "metadata": {},
   "outputs": [],
   "source": []
  },
  {
   "cell_type": "code",
   "execution_count": null,
   "id": "740ae035-0e6e-4c2d-96bb-3a2014459c8a",
   "metadata": {},
   "outputs": [],
   "source": []
  }
 ],
 "metadata": {
  "kernelspec": {
   "display_name": "Python 3 (ipykernel)",
   "language": "python",
   "name": "python3"
  },
  "language_info": {
   "codemirror_mode": {
    "name": "ipython",
    "version": 3
   },
   "file_extension": ".py",
   "mimetype": "text/x-python",
   "name": "python",
   "nbconvert_exporter": "python",
   "pygments_lexer": "ipython3",
   "version": "3.11.6"
  }
 },
 "nbformat": 4,
 "nbformat_minor": 5
}
