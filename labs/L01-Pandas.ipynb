{
 "cells": [
  {
   "cell_type": "markdown",
   "id": "f35794a7-dbb6-44be-9877-971d1d27ea2b",
   "metadata": {},
   "source": [
    "# Introducción a Pandas en Deep Learning\n",
    "\n",
    "Pandas es una biblioteca de Python de código abierto que proporciona herramientas de análisis y manipulación de datos de alto rendimiento y fácil de usar. Es fundamental en la limpieza y preparación de datos para el análisis y, en el contexto del Deep Learning, es crucial para manejar y preparar conjuntos de datos antes de entrenar modelos.\n",
    "\n",
    "## ¿Por qué Pandas?\n",
    "\n",
    "- **Facilidad de uso**: Pandas simplifica el proceso de manejo de datos complejos y de gran tamaño.\n",
    "- **Versatilidad**: Permite la manipulación de datos estructurados de forma intuitiva con estructuras de datos como Series y DataFrames.\n",
    "- **Potencia**: Con Pandas, se pueden realizar tareas complejas de análisis y manipulación de datos con pocas líneas de código.\n",
    "\n",
    "## Recursos Importantes\n",
    "- Documentación oficial de Pandas: [Pandas Docs](https://pandas.pydata.org/pandas-docs/stable/)\n",
    "- Tutorial de Pandas: [10 Minutes to Pandas](https://pandas.pydata.org/pandas-docs/stable/user_guide/10min.html)\n",
    "- Cheat sheet de Pandas: [Pandas Cheat Sheet](https://pandas.pydata.org/Pandas_Cheat_Sheet.pdf)\n",
    "- Próxima gran actualización - Pandas 3.0: [What's New in Pandas 3.0](https://pandas.pydata.org/docs/dev/whatsnew/v3.0.0.html)\n",
    "\n",
    "## Importando Pandas\n",
    "Para comenzar a utilizar Pandas, primero debemos importarlo. \n",
    "\n"
   ]
  },
  {
   "cell_type": "code",
   "execution_count": 1,
   "id": "92b64fe5-0e0a-4797-926e-924fc455a0fd",
   "metadata": {},
   "outputs": [
    {
     "name": "stderr",
     "output_type": "stream",
     "text": [
      "/var/folders/8t/_30q61fx5slbhg1f1kh3fhtc0000gn/T/ipykernel_78119/2026077823.py:2: DeprecationWarning: \n",
      "Pyarrow will become a required dependency of pandas in the next major release of pandas (pandas 3.0),\n",
      "(to allow more performant data types, such as the Arrow string type, and better interoperability with other libraries)\n",
      "but was not found to be installed on your system.\n",
      "If this would cause problems for you,\n",
      "please provide us feedback at https://github.com/pandas-dev/pandas/issues/54466\n",
      "        \n",
      "  import pandas as pd\n"
     ]
    }
   ],
   "source": [
    "# Importar Pandas\n",
    "import pandas as pd"
   ]
  },
  {
   "cell_type": "markdown",
   "id": "b15b06ef-ca98-4bc4-8ee0-c25938c2e016",
   "metadata": {},
   "source": [
    "## Creación de Series y DataFrames\n",
    "\n",
    "Pandas es una herramienta esencial en el análisis de datos y Deep Learning, proporcionando dos estructuras de datos fundamentales: `Series` y `DataFrames`.\n",
    "La estrecha integración con NumPy significa que podemos usar métodos y funciones de NumPy directamente en las estructuras de Pandas, facilitando así un amplio rango de operaciones analíticas y matemáticas.\n",
    "\n",
    "### Series\n",
    "\n",
    "Una `Series` en Pandas es un array unidimensional que puede contener cualquier tipo de datos (enteros, cadenas, números flotantes, objetos Python, etc.). Cada elemento en una Serie tiene un índice asociado, que es una forma de acceder al valor.\n",
    "\n",
    "#### Características de las Series:\n",
    "- Heterogéneos: todos los elementos de una serie pueden ser de diferentes tipos.\n",
    "- Tamaño inmutable: una vez creada, el tamaño de una Serie no puede cambiar, aunque los valores pueden modificarse.\n",
    "- Capacidad para realizar operaciones vectorizadas, gracias a su estrecha relación con NumPy.\n",
    "\n",
    "Las Series son similares a los arrays unidimensionales en NumPy, pero con funcionalidades adicionales, como el etiquetado de índices, lo que permite un manejo más intuitivo de los datos.\n",
    "\n",
    "#### Ejemplos de Creación de Series en Pandas\n",
    "\n",
    "Una Serie en Pandas puede ser creada de múltiples formas. Aquí veremos algunos ejemplos utilizando diferentes tipos de datos y métodos.\n",
    "\n"
   ]
  },
  {
   "cell_type": "code",
   "execution_count": 2,
   "id": "034d291e-ae63-4ce4-bd78-bd520bccba68",
   "metadata": {},
   "outputs": [
    {
     "name": "stdout",
     "output_type": "stream",
     "text": [
      "Serie a partir de una lista:\n",
      " 0    10\n",
      "1    20\n",
      "2    30\n",
      "3    40\n",
      "4    50\n",
      "dtype: int64\n",
      "\n",
      "Serie a partir de un array de NumPy:\n",
      " 0     5\n",
      "1    10\n",
      "2    15\n",
      "3    20\n",
      "4    25\n",
      "dtype: int64\n",
      "\n",
      "Serie con índices personalizados:\n",
      " a    10\n",
      "b    20\n",
      "c    30\n",
      "d    40\n",
      "e    50\n",
      "dtype: int64\n",
      "\n",
      "Serie a partir de un diccionario:\n",
      " a    1\n",
      "b    2\n",
      "c    3\n",
      "d    4\n",
      "dtype: int64\n",
      "\n",
      "Serie con un solo valor repetido:\n",
      " 0    5\n",
      "1    5\n",
      "2    5\n",
      "3    5\n",
      "4    5\n",
      "dtype: int64\n",
      "\n",
      "Serie con datos mixtos:\n",
      " 0      10\n",
      "1       a\n",
      "2     1.5\n",
      "3    True\n",
      "dtype: object\n",
      "\n",
      "Serie a partir de un rango numérico:\n",
      " 0    0\n",
      "1    1\n",
      "2    2\n",
      "3    3\n",
      "4    4\n",
      "dtype: int64\n"
     ]
    }
   ],
   "source": [
    "import numpy as np\n",
    "\n",
    "# Ejemplo 1: Creación de una Serie a partir de una lista\n",
    "lista = [10, 20, 30, 40, 50]\n",
    "serie1 = pd.Series(lista)\n",
    "print(\"Serie a partir de una lista:\\n\", serie1)\n",
    "\n",
    "# Ejemplo 2: Creación de una Serie a partir de un array de NumPy\n",
    "array_np = np.array([5, 10, 15, 20, 25])\n",
    "serie2 = pd.Series(array_np)\n",
    "print(\"\\nSerie a partir de un array de NumPy:\\n\", serie2)\n",
    "\n",
    "# Ejemplo 3: Creación de una Serie con índices personalizados\n",
    "indices = ['a', 'b', 'c', 'd', 'e']\n",
    "serie3 = pd.Series(lista, index=indices)\n",
    "print(\"\\nSerie con índices personalizados:\\n\", serie3)\n",
    "\n",
    "# Ejemplo 4: Creación de una Serie a partir de un diccionario\n",
    "diccionario = {'a': 1, 'b': 2, 'c': 3, 'd': 4}\n",
    "serie4 = pd.Series(diccionario)\n",
    "print(\"\\nSerie a partir de un diccionario:\\n\", serie4)\n",
    "\n",
    "# Ejemplo 5: Creación de una Serie con un solo valor repetido\n",
    "serie5 = pd.Series(5, index=[0, 1, 2, 3, 4])\n",
    "print(\"\\nSerie con un solo valor repetido:\\n\", serie5)\n",
    "\n",
    "# Ejemplo 6: Creación de una Serie con datos mixtos\n",
    "mix_data = [10, \"a\", 1.5, True]\n",
    "serie6 = pd.Series(mix_data)\n",
    "print(\"\\nSerie con datos mixtos:\\n\", serie6)\n",
    "\n",
    "# Ejemplo 7: Creación de una Serie a partir de un rango numérico\n",
    "serie7 = pd.Series(range(5))\n",
    "print(\"\\nSerie a partir de un rango numérico:\\n\", serie7)\n"
   ]
  },
  {
   "cell_type": "markdown",
   "id": "f8924fe0-bcab-4e35-862f-38f907f9bb7f",
   "metadata": {},
   "source": [
    "### DataFrames\n",
    "\n",
    "Un `DataFrame` es una estructura de datos bidimensional en Pandas, que se puede considerar como una tabla o una hoja de cálculo de Excel. Cada columna en un DataFrame puede ser de un tipo de dato diferente (numérico, cadena, booleano, etc.), lo que lo hace heterogéneo.\n",
    "\n",
    "#### Características de los DataFrames:\n",
    "- Heterogéneos: las columnas pueden ser de diferentes tipos.\n",
    "- Mutable en tamaño: se pueden agregar o eliminar columnas.\n",
    "- Poseen etiquetas en filas y columnas, lo que facilita la referencia y manipulación de los datos.\n",
    "\n",
    "Los DataFrames se relacionan estrechamente con las estructuras de datos en NumPy. Internamente, Pandas almacena los datos en un DataFrame en bloques de NumPy, lo que permite realizar cálculos eficientes a través de operaciones vectorizadas.\n",
    "\n",
    "#### Ejemplos de Creación de DataFrames\n",
    "\n",
    "Pandas permite la creación de DataFrames de múltiples maneras, dependiendo de la fuente de los datos y la estructura deseada. A continuación, veremos varios ejemplos utilizando diferentes métodos y fuentes de datos.\n",
    "\n"
   ]
  },
  {
   "cell_type": "code",
   "execution_count": 3,
   "id": "2c7cf0d8-18b7-4cde-b55b-fcb527b485ba",
   "metadata": {},
   "outputs": [
    {
     "name": "stdout",
     "output_type": "stream",
     "text": [
      "DataFrame a partir de un diccionario de listas:\n",
      "   Nombre  Edad     Ciudad\n",
      "0    Ana    25     Madrid\n",
      "1   Luis    30  Barcelona\n",
      "2  Pedro    35   Valencia\n",
      "\n",
      "DataFrame a partir de un diccionario de Series:\n",
      "      Ventas  Gastos\n",
      "Ene     100      50\n",
      "Feb     150      60\n",
      "Mar     200      70\n",
      "\n",
      "DataFrame a partir de una lista de diccionarios:\n",
      "    a   b     c\n",
      "0  1   2   NaN\n",
      "1  5  10  20.0\n",
      "\n",
      "DataFrame a partir de un array de NumPy con índices y columnas especificadas:\n",
      "        col1  col2  col3\n",
      "fila1     1     2     3\n",
      "fila2     4     5     6\n",
      "fila3     7     8     9\n",
      "\n",
      "DataFrame a partir de un array de NumPy sin índices ni columnas especificadas:\n",
      "           0         1\n",
      "0  0.926954  0.365369\n",
      "1  0.784011  0.437709\n",
      "2  0.990283  0.909216\n",
      "3  0.244181  0.681723\n",
      "\n",
      "DataFrame con índices MultiIndex:\n",
      "                         A         B\n",
      "primero segundo                    \n",
      "a       1        1.875142 -0.419497\n",
      "        2        0.670488 -0.860696\n",
      "b       1       -0.455253 -0.030953\n",
      "        2       -1.220100  0.478303\n"
     ]
    }
   ],
   "source": [
    "import pandas as pd\n",
    "import numpy as np\n",
    "\n",
    "# Ejemplo 1: Creación de un DataFrame a partir de un diccionario de listas\n",
    "data = {'Nombre': ['Ana', 'Luis', 'Pedro'], 'Edad': [25, 30, 35], 'Ciudad': ['Madrid', 'Barcelona', 'Valencia']}\n",
    "df1 = pd.DataFrame(data)\n",
    "print(\"DataFrame a partir de un diccionario de listas:\\n\", df1)\n",
    "\n",
    "# Ejemplo 2: Creación de un DataFrame a partir de un diccionario de Series\n",
    "ventas = pd.Series([100, 150, 200], index=['Ene', 'Feb', 'Mar'])\n",
    "gastos = pd.Series([50, 60, 70], index=['Ene', 'Feb', 'Mar'])\n",
    "df2 = pd.DataFrame({'Ventas': ventas, 'Gastos': gastos})\n",
    "print(\"\\nDataFrame a partir de un diccionario de Series:\\n\", df2)\n",
    "\n",
    "# Ejemplo 3: Creación de un DataFrame a partir de una lista de diccionarios\n",
    "records = [{'a': 1, 'b': 2}, {'a': 5, 'b': 10, 'c': 20}]\n",
    "df3 = pd.DataFrame(records)\n",
    "print(\"\\nDataFrame a partir de una lista de diccionarios:\\n\", df3)\n",
    "\n",
    "# Ejemplo 4: Creación de un DataFrame a partir de un array de NumPy con índices y columnas especificadas\n",
    "array = np.array([[1, 2, 3], [4, 5, 6], [7, 8, 9]])\n",
    "df4 = pd.DataFrame(array, index=['fila1', 'fila2', 'fila3'], columns=['col1', 'col2', 'col3'])\n",
    "print(\"\\nDataFrame a partir de un array de NumPy con índices y columnas especificadas:\\n\", df4)\n",
    "\n",
    "# Ejemplo 5: Creación de un DataFrame a partir de un array de NumPy sin índices ni columnas especificadas\n",
    "df5 = pd.DataFrame(np.random.rand(4, 2))\n",
    "print(\"\\nDataFrame a partir de un array de NumPy sin índices ni columnas especificadas:\\n\", df5)\n",
    "\n",
    "# Ejemplo 6: Creación de un DataFrame con índices MultiIndex\n",
    "arrays = [['a', 'a', 'b', 'b'], [1, 2, 1, 2]]\n",
    "tuples = list(zip(*arrays))\n",
    "index = pd.MultiIndex.from_tuples(tuples, names=['primero', 'segundo'])\n",
    "df6 = pd.DataFrame(np.random.randn(4, 2), index=index, columns=['A', 'B'])\n",
    "print(\"\\nDataFrame con índices MultiIndex:\\n\", df6)\n"
   ]
  },
  {
   "cell_type": "markdown",
   "id": "b3901e35-f98f-47c4-972a-f2462c12d55a",
   "metadata": {},
   "source": [
    "## Selección y filtrado de datos\n",
    "\n",
    "La selección y el filtrado de datos son esenciales para analizar subconjuntos de datos y extraer información significativa. Pandas proporciona varias maneras de seleccionar y filtrar datos de forma eficiente.\n",
    "\n",
    "### Selección de columnas específicas de un DataFrame\n",
    "\n",
    "Puedes seleccionar columnas específicas de un DataFrame simplemente especificando el nombre de la columna. Esto se puede hacer de varias maneras, ya sea pasando el nombre de la columna directamente al DataFrame o utilizando el método `loc`.\n",
    "\n"
   ]
  },
  {
   "cell_type": "code",
   "execution_count": 4,
   "id": "4eec0d56-c247-479b-97f3-7d51eff91c34",
   "metadata": {},
   "outputs": [
    {
     "name": "stdout",
     "output_type": "stream",
     "text": [
      "Datos de la columna Name: \n",
      " 0      Alice\n",
      "1        Bob\n",
      "2    Charlie\n",
      "3      David\n",
      "Name: Name, dtype: object\n",
      "\n",
      "Seleccion de multiples columnas: \n",
      "       Name  Age\n",
      "0    Alice   24\n",
      "1      Bob   27\n",
      "2  Charlie   33\n",
      "3    David   29\n"
     ]
    }
   ],
   "source": [
    "# Supongamos que tenemos el siguiente DataFrame\n",
    "data = {\n",
    "    'Name': ['Alice', 'Bob', 'Charlie', 'David'],\n",
    "    'Age': [24, 27, 33, 29],\n",
    "    'City': ['New York', 'Los Angeles', 'Chicago', 'Chicago']\n",
    "}\n",
    "df = pd.DataFrame(data)\n",
    "\n",
    "# Selección de una sola columna\n",
    "name_column = df['Name']\n",
    "print(f\"Datos de la columna Name: \\n {name_column}\\n\")\n",
    "\n",
    "# Selección de múltiples columnas\n",
    "subset = df[['Name', 'Age']]\n",
    "print(f\"Seleccion de multiples columnas: \\n {subset}\")\n",
    "\n"
   ]
  },
  {
   "cell_type": "markdown",
   "id": "99564529-0467-44b7-a353-dfda1410edb9",
   "metadata": {},
   "source": [
    "### Filtrado de filas usando condiciones booleanas\n",
    "\n",
    "El filtrado de filas se basa en condiciones que se evalúan como `True` o `False`. Utilizando condiciones booleanas, podemos extraer filas que cumplan ciertos criterios.\n",
    "\n"
   ]
  },
  {
   "cell_type": "code",
   "execution_count": 5,
   "id": "ee642a25-9d2f-4934-af6e-8696f1a357d3",
   "metadata": {},
   "outputs": [
    {
     "name": "stdout",
     "output_type": "stream",
     "text": [
      "Filas donde Age > 30 se cumpla: \n",
      "       Name  Age     City\n",
      "2  Charlie   33  Chicago\n",
      "\n",
      "Filas donde sean mayores de 25 y vivan en Chicago: \n",
      "       Name  Age     City\n",
      "2  Charlie   33  Chicago\n",
      "3    David   29  Chicago\n"
     ]
    }
   ],
   "source": [
    "# Filtrado de filas donde la edad es mayor a 30\n",
    "older_than_30 = df[df['Age'] > 30]\n",
    "print(f\"Filas donde Age > 30 se cumpla: \\n {older_than_30}\\n\")\n",
    "\n",
    "# Filtrado combinando múltiples condiciones\n",
    "# Selección de personas mayores de 25 años que viven en Chicago\n",
    "older_than_25_in_chicago = df[(df['Age'] > 25) & (df['City'] == 'Chicago')]\n",
    "print(f\"Filas donde sean mayores de 25 y vivan en Chicago: \\n {older_than_25_in_chicago}\")\n",
    "\n"
   ]
  },
  {
   "cell_type": "markdown",
   "id": "a32759ed-638b-43a1-b85c-450377147663",
   "metadata": {},
   "source": [
    "Estos ejemplos muestran cómo puedes seleccionar columnas específicas y filtrar filas en un DataFrame basándote en condiciones booleanas. Estas operaciones son fundamentales para la manipulación y análisis de datos con Pandas.\n",
    "\n",
    "## Manipulación de columnas en un DataFrame\n",
    "\n",
    "Manipular columnas en un DataFrame es una tarea común en el análisis de datos. A menudo necesitamos agregar nuevas columnas, eliminar columnas existentes o cambiar el nombre de las columnas para mejorar la claridad o el significado de los datos.\n",
    "\n",
    "### Adición y eliminación de columnas\n",
    "\n",
    "Podemos agregar nuevas columnas a un DataFrame de manera similar a como agregaríamos un valor a un diccionario en Python. Para eliminar columnas, usamos el método `drop`.\n",
    "\n"
   ]
  },
  {
   "cell_type": "code",
   "execution_count": 6,
   "id": "67933986-d7f3-4b42-a96a-f5fe682928bc",
   "metadata": {},
   "outputs": [
    {
     "name": "stdout",
     "output_type": "stream",
     "text": [
      "DataFrame después de añadir la columna 'D':\n",
      "   A  B  C   D\n",
      "0  1  4  7  10\n",
      "1  2  5  8  11\n",
      "2  3  6  9  12\n",
      "\n",
      "DataFrame después de eliminar la columna 'B':\n",
      "   A  C   D\n",
      "0  1  7  10\n",
      "1  2  8  11\n",
      "2  3  9  12\n"
     ]
    }
   ],
   "source": [
    "# Crear un DataFrame de ejemplo\n",
    "df = pd.DataFrame({\n",
    "    'A': [1, 2, 3],\n",
    "    'B': [4, 5, 6],\n",
    "    'C': [7, 8, 9]\n",
    "})\n",
    "\n",
    "# Adición de una nueva columna\n",
    "df['D'] = [10, 11, 12]\n",
    "print(\"DataFrame después de añadir la columna 'D':\")\n",
    "print(df)\n",
    "\n",
    "# Eliminación de una columna\n",
    "df.drop('B', axis=1, inplace=True)\n",
    "print(\"\\nDataFrame después de eliminar la columna 'B':\")\n",
    "print(df)\n"
   ]
  },
  {
   "cell_type": "markdown",
   "id": "b4b9a615-c4a8-4817-9303-984a73880024",
   "metadata": {},
   "source": [
    "### Renombrar columnas en un DataFrame\n",
    "\n",
    "Renombrar columnas en un DataFrame es útil para dar nombres más descriptivos a las columnas o corregir errores. Para esto, podemos usar el método `rename` y proporcionar un diccionario que mapee los nombres antiguos a los nuevos.\n"
   ]
  },
  {
   "cell_type": "code",
   "execution_count": 7,
   "id": "16276a9a-162e-4f16-b477-10e26dedddd2",
   "metadata": {},
   "outputs": [
    {
     "name": "stdout",
     "output_type": "stream",
     "text": [
      "DataFrame después de renombrar columnas:\n",
      "   Primera  Tercera   D\n",
      "0        1        7  10\n",
      "1        2        8  11\n",
      "2        3        9  12\n"
     ]
    }
   ],
   "source": [
    "# Renombrar columnas\n",
    "df = df.rename(columns={'A': 'Primera', 'C': 'Tercera'})\n",
    "print(\"DataFrame después de renombrar columnas:\")\n",
    "print(df)\n"
   ]
  },
  {
   "cell_type": "markdown",
   "id": "9df43b9d-f6e0-4fae-bd98-7776bca5460e",
   "metadata": {},
   "source": [
    "## Manipulación de Filas en Pandas\n",
    "\n",
    "La manipulación de filas es tan importante como la de columnas en un DataFrame. A menudo, necesitamos añadir, eliminar o modificar filas para preparar nuestros datos para el análisis o la modelación en Deep Learning.\n",
    "\n",
    "### Adición y eliminación de Filas\n",
    "\n",
    "Podemos añadir nuevas filas a un DataFrame, ya sea apendando una nueva fila al final o insertándola en una posición específica. También podemos eliminar filas que no necesitamos.\n",
    "\n"
   ]
  },
  {
   "cell_type": "code",
   "execution_count": 8,
   "id": "ce17f5ea-816a-46ba-9ee6-38831335b919",
   "metadata": {},
   "outputs": [
    {
     "name": "stdout",
     "output_type": "stream",
     "text": [
      "DataFrame original:\n",
      "  Nombre  Edad\n",
      "0    Ana    25\n",
      "1   Luis    30\n",
      "2  Marta    22\n",
      "\n",
      "DataFrame después de añadir una fila:\n",
      "   Nombre  Edad\n",
      "0     Ana    25\n",
      "1    Luis    30\n",
      "2   Marta    22\n",
      "3  Carlos    28\n",
      "\n",
      "DataFrame después de eliminar una fila:\n",
      "   Nombre  Edad\n",
      "0     Ana    25\n",
      "2   Marta    22\n",
      "3  Carlos    28\n"
     ]
    }
   ],
   "source": [
    "# Supongamos que tenemos el siguiente DataFrame\n",
    "data = {'Nombre': ['Ana', 'Luis', 'Marta'], 'Edad': [25, 30, 22]}\n",
    "df = pd.DataFrame(data)\n",
    "print(\"DataFrame original:\")\n",
    "print(df)\n",
    "\n",
    "# Añadir una nueva fila al final\n",
    "nueva_fila = pd.DataFrame({'Nombre': ['Carlos'], 'Edad': [28]})\n",
    "df = pd.concat([df, nueva_fila], ignore_index=True)\n",
    "print(\"\\nDataFrame después de añadir una fila:\")\n",
    "print(df)\n",
    "\n",
    "# Eliminar una fila, por ejemplo, la fila en el índice 1\n",
    "df = df.drop(1)\n",
    "print(\"\\nDataFrame después de eliminar una fila:\")\n",
    "print(df)\n"
   ]
  },
  {
   "cell_type": "markdown",
   "id": "1dce3215-7d94-4878-8e13-c9ba10b03d43",
   "metadata": {},
   "source": [
    "### Renombrar Filas en un DataFrame\n",
    "\n",
    "Renombrar filas en un DataFrame es útil para mantener la consistencia o claridad en los datos, especialmente cuando los índices tienen un significado en el contexto de los datos.\n",
    "\n"
   ]
  },
  {
   "cell_type": "code",
   "execution_count": 9,
   "id": "f43b9c57-4e11-4d4d-aabb-e539cc49e364",
   "metadata": {},
   "outputs": [
    {
     "name": "stdout",
     "output_type": "stream",
     "text": [
      "\n",
      "DataFrame con la columna 'Nombre' como índice:\n",
      "        Edad\n",
      "Nombre      \n",
      "Ana       25\n",
      "Marta     22\n",
      "Carlos    28\n",
      "\n",
      "DataFrame después de renombrar filas específicas:\n",
      "        Nombre  Edad\n",
      "Fila 1     Ana    25\n",
      "1        Marta    22\n",
      "Fila 3  Carlos    28\n"
     ]
    }
   ],
   "source": [
    "# Renombrar filas utilizando set_index para asignar una columna como índice\n",
    "df = df.set_index('Nombre')\n",
    "print(\"\\nDataFrame con la columna 'Nombre' como índice:\")\n",
    "print(df)\n",
    "\n",
    "# Restablecer el índice al predeterminado y renombrar filas específicas\n",
    "df = df.reset_index()\n",
    "df = df.rename(index={0: 'Fila 1', 2: 'Fila 3'})\n",
    "print(\"\\nDataFrame después de renombrar filas específicas:\")\n",
    "print(df)\n"
   ]
  },
  {
   "cell_type": "markdown",
   "id": "05be6307-9008-4b8f-a112-0c2f3975d990",
   "metadata": {},
   "source": [
    "En estos ejemplos, hemos aprendido cómo añadir y eliminar filas/columnas en un DataFrame, así como renombrarlas para mejorar la claridad de nuestros datos. Estas operaciones son fundamentales para la manipulación y preparación de datos en Pandas.\n",
    "\n",
    "## Indexación y slicing\n",
    "\n",
    "La indexación y el slicing son fundamentales para acceder a los datos dentro de un DataFrame en Pandas. Podemos seleccionar datos específicos por etiqueta o posición, y también seleccionar rangos de filas o columnas.\n",
    "\n",
    "### Uso de `loc` y `iloc`\n",
    "`loc` se utiliza para acceder a un grupo de filas y columnas por etiqueta(s) o una matriz booleana. `iloc` se utiliza para acceder a un grupo de filas y columnas por posición (índice entero).\n",
    "\n",
    "#### Uso de `loc`\n",
    "Con `loc`, podemos seleccionar filas y columnas con sus etiquetas.\n"
   ]
  },
  {
   "cell_type": "code",
   "execution_count": 10,
   "id": "83307a02-57ea-4aa5-a319-eefe4ff7dc57",
   "metadata": {},
   "outputs": [
    {
     "name": "stdout",
     "output_type": "stream",
     "text": [
      "Filas que el nombre sea Luis: \n",
      "  Nombre  Edad     Ciudad\n",
      "1   Luis    34  Barcelona\n",
      "\n",
      "Filas que el nombre sea Luis o marta, y retornando solo las columnas Edad y Cuidad: \n",
      "   Edad     Ciudad\n",
      "1    34  Barcelona\n",
      "3    40     Bilbao\n",
      "\n"
     ]
    }
   ],
   "source": [
    "# Ejemplo de DataFrame\n",
    "data = {\n",
    "    'Nombre': ['Ana', 'Luis', 'Carlos', 'Marta'],\n",
    "    'Edad': [28, 34, 29, 40],\n",
    "    'Ciudad': ['Madrid', 'Barcelona', 'Valencia', 'Bilbao']\n",
    "}\n",
    "df = pd.DataFrame(data)\n",
    "\n",
    "# Seleccionar la fila de Luis usando loc\n",
    "print(f\"Filas que el nombre sea Luis: \\n{df.loc[df['Nombre'] == 'Luis']}\\n\")\n",
    "\n",
    "# Seleccionar las filas de Luis y Marta, y columnas específicas\n",
    "print(f\"Filas que el nombre sea Luis o marta, y retornando solo las columnas Edad y Cuidad: \\n{df.loc[df['Nombre'].isin(['Luis', 'Marta']), ['Edad', 'Ciudad']]}\\n\")\n"
   ]
  },
  {
   "cell_type": "markdown",
   "id": "1f5d0970-002e-47da-8cf2-94d20de36cdb",
   "metadata": {},
   "source": [
    "### Uso de `iloc`\n",
    "Con `iloc`, podemos seleccionar filas y columnas por su posición numérica.\n"
   ]
  },
  {
   "cell_type": "code",
   "execution_count": 11,
   "id": "21ed9db9-8209-4673-9e4b-81f980e9dea9",
   "metadata": {},
   "outputs": [
    {
     "name": "stdout",
     "output_type": "stream",
     "text": [
      "Seleccion de la segunda fila: \n",
      "Nombre         Luis\n",
      "Edad             34\n",
      "Ciudad    Barcelona\n",
      "Name: 1, dtype: object\n",
      "\n",
      "Seleccion  de las primeras dos filas y columnas: \n",
      "  Nombre  Edad\n",
      "0    Ana    28\n",
      "1   Luis    34\n",
      "\n"
     ]
    }
   ],
   "source": [
    "# Seleccionar la segunda fila usando iloc\n",
    "print(f\"Seleccion de la segunda fila: \\n{df.iloc[1]}\\n\")\n",
    "\n",
    "# Seleccionar las dos primeras filas y las dos primeras columnas\n",
    "print(f\"Seleccion  de las primeras dos filas y columnas: \\n{df.iloc[0:2, 0:2]}\\n\")\n"
   ]
  },
  {
   "cell_type": "markdown",
   "id": "ff427c43-b5e6-40df-8ab1-08da378414f9",
   "metadata": {},
   "source": [
    "## Slicing de DataFrames\n",
    "El slicing se utiliza para seleccionar rangos de datos. Podemos hacer slicing tanto con `loc` como con `iloc`.\n",
    "\n",
    "### Slicing con `loc`\n",
    "Podemos hacer slicing de filas y seleccionar columnas específicas por etiqueta.\n"
   ]
  },
  {
   "cell_type": "code",
   "execution_count": 12,
   "id": "23f924c5-05b9-436e-bcb2-513a15c8fe5d",
   "metadata": {},
   "outputs": [
    {
     "name": "stdout",
     "output_type": "stream",
     "text": [
      "   Edad     Ciudad\n",
      "0    28     Madrid\n",
      "1    34  Barcelona\n"
     ]
    }
   ],
   "source": [
    "# Slicing de las dos primeras filas y seleccionando columnas por nombre\n",
    "print(df.loc[0:1, 'Edad':'Ciudad'])"
   ]
  },
  {
   "cell_type": "markdown",
   "id": "67e31b57-681b-4bee-8872-15a541194054",
   "metadata": {},
   "source": [
    "### Slicing con `iloc`\n",
    "El slicing con `iloc` permite seleccionar rangos de filas y columnas por índice numérico.\n"
   ]
  },
  {
   "cell_type": "code",
   "execution_count": 13,
   "id": "2888d18b-2900-4c08-8ee0-94616cba4cb9",
   "metadata": {},
   "outputs": [
    {
     "name": "stdout",
     "output_type": "stream",
     "text": [
      "   Nombre  Edad\n",
      "0     Ana    28\n",
      "1    Luis    34\n",
      "2  Carlos    29\n"
     ]
    }
   ],
   "source": [
    "# Slicing de las tres primeras filas y las dos primeras columnas\n",
    "print(df.iloc[0:3, 0:2])"
   ]
  },
  {
   "cell_type": "markdown",
   "id": "0430616c-735b-4866-acc3-e036815e3b40",
   "metadata": {},
   "source": [
    "Estos ejemplos ilustran cómo realizar indexación y slicing en Pandas, utilizando loc para seleccionar por etiquetas y iloc para seleccionar por posición numérica."
   ]
  },
  {
   "cell_type": "markdown",
   "id": "ade6edf5-8495-4ab6-891f-39aebd2d927a",
   "metadata": {},
   "source": [
    "## Importación y exportación de datos con Pandas\n",
    "\n",
    "### Lectura de datos\n",
    "\n",
    "Importar datos correctamente en Pandas es un paso crucial para cualquier análisis de datos. Pandas proporciona varias funciones para leer datos en diferentes formatos. Aquí nos centraremos en la importación de archivos CSV, que es uno de los formatos más comunes.\n",
    "\n",
    "#### Importar datos desde archivos CSV\n",
    "Pandas facilita la importación de datos desde archivos CSV. Podemos manejar diferentes delimitadores, que son los caracteres que separan los valores en nuestro archivo. Los más comunes son la coma (`,`) y el punto y coma (`;`).\n",
    "\n"
   ]
  },
  {
   "cell_type": "code",
   "execution_count": 14,
   "id": "7296d9c3-f211-44aa-b8a3-142321b6d96d",
   "metadata": {},
   "outputs": [
    {
     "name": "stdout",
     "output_type": "stream",
     "text": [
      "      Name  Age Occupation\n",
      "0    Alice   25   Engineer\n",
      "1      Bob   30     Doctor\n",
      "2  Charlie   35     Artist\n"
     ]
    }
   ],
   "source": [
    "#### Ejemplo 1: Usando coma (`,`) como delimitador\n",
    "\n",
    "# Ruta del archivo CSV con delimitador de coma\n",
    "csv_comma = './data/example_comma.csv'\n",
    "\n",
    "# Leer el archivo CSV en un DataFrame\n",
    "data_comma = pd.read_csv(csv_comma)\n",
    "print(data_comma)\n"
   ]
  },
  {
   "cell_type": "code",
   "execution_count": 15,
   "id": "317b0210-5947-478f-99e4-6e816d3c7f94",
   "metadata": {},
   "outputs": [
    {
     "name": "stdout",
     "output_type": "stream",
     "text": [
      "      Name  Age Occupation\n",
      "0    Alice   25   Engineer\n",
      "1      Bob   30     Doctor\n",
      "2  Charlie   35     Artist\n"
     ]
    }
   ],
   "source": [
    "# Ruta del archivo CSV con delimitador de punto y coma\n",
    "csv_semicolon = './data/example_semicolon.csv'\n",
    "\n",
    "# Leer el archivo CSV en un DataFrame, especificando el delimitador\n",
    "data_semicolon = pd.read_csv(csv_semicolon, sep=';')\n",
    "print(data_semicolon)\n"
   ]
  },
  {
   "cell_type": "markdown",
   "id": "62a58203-35ca-4204-a100-559adfadcc50",
   "metadata": {},
   "source": [
    "En estos ejemplos, hemos importado datos de archivos CSV utilizando diferentes delimitadores. Pandas detecta automáticamente el delimitador en muchos casos, pero siempre es buena práctica especificarlo mediante el argumento sep para evitar problemas de lectura."
   ]
  },
  {
   "cell_type": "markdown",
   "id": "f8219815-406b-47e3-a75c-3f3a7efca022",
   "metadata": {},
   "source": [
    "### Guardado de datos\n",
    "\n",
    "Una parte esencial del trabajo con datos es la capacidad de guardar nuestros resultados. Pandas hace que sea sencillo exportar DataFrames a varios formatos de archivo, siendo uno de los más comunes el archivo CSV (valores separados por comas).\n",
    "\n",
    "### Exportar DataFrames a archivos CSV\n",
    "\n",
    "Para exportar un DataFrame a un archivo CSV, utilizamos el método `to_csv()`. Este método es muy flexible y permite ajustar varios parámetros para satisfacer nuestras necesidades, como seleccionar qué columnas exportar y decidir si incluir o no el índice del DataFrame en el archivo.\n"
   ]
  },
  {
   "cell_type": "code",
   "execution_count": 16,
   "id": "8ca2fd4a-5c06-4615-9a53-81a6f1242bb4",
   "metadata": {},
   "outputs": [],
   "source": [
    "# Supongamos que tenemos el siguiente DataFrame\n",
    "data = {\n",
    "    'Nombre': ['Ana', 'Luis', 'Carlos'],\n",
    "    'Edad': [25, 30, 35],\n",
    "    'Ciudad': ['Madrid', 'Barcelona', 'Valencia']\n",
    "}\n",
    "df = pd.DataFrame(data)\n",
    "\n",
    "# Exportar el DataFrame completo a un archivo CSV\n",
    "df.to_csv('./data/export_datos_completos.csv', index=False)\n",
    "\n",
    "# Si solo queremos exportar ciertas columnas, podemos especificarlo\n",
    "df.to_csv('./data/export_datos_reducidos.csv', columns=['Nombre', 'Edad'], index=False)\n"
   ]
  },
  {
   "cell_type": "markdown",
   "id": "202f42b5-3f23-4648-8bbb-8f65044d6af2",
   "metadata": {},
   "source": [
    "## Limpieza y preparación de datos\n",
    "\n",
    "### Exploración rápida de los datos\n",
    "\n",
    "Una parte fundamental del proceso de análisis de datos es realizar una exploración inicial para entender la estructura y las características del dataset. Utilizaremos el dataset de Titanic, disponible en la biblioteca Seaborn, para demostrar cómo realizar una exploración rápida.\n",
    "\n",
    "#### Dataset de Titanic\n",
    "\n",
    "El dataset de Titanic es uno de los conjuntos de datos más conocidos en el campo del análisis de datos y machine learning. Proviene del trágico hundimiento del RMS Titanic en 1912, que resultó en la pérdida de más de 1,500 de las aproximadamente 2,224 personas a bordo.\n",
    "\n",
    "Este dataset contiene información demográfica y de viaje de los pasajeros y la tripulación a bordo del Titanic. Aquí están algunas de las características clave incluidas en el dataset:\n",
    "\n",
    "- `survived`: Indica si el pasajero sobrevivió (1) o no (0).\n",
    "- `pclass`: La clase del billete (1, 2, o 3), que también puede indicar la clase socioeconómica.\n",
    "- `sex`: El género del pasajero.\n",
    "- `age`: La edad del pasajero.\n",
    "- `sibsp`: El número de hermanos o cónyuges que el pasajero tenía a bordo.\n",
    "- `parch`: El número de padres o hijos que el pasajero tenía a bordo.\n",
    "- `fare`: El precio del billete.\n",
    "- `embarked`: El puerto de embarque (C = Cherbourg, Q = Queenstown, S = Southampton).\n",
    "- `class`: Un factor con niveles correspondientes a las clases de billetes (Primera, Segunda, Tercera).\n",
    "- `who`: Describe si el pasajero es hombre, mujer o niño.\n",
    "- `adult_male`: Una variable booleana que indica si el pasajero es un hombre adulto.\n",
    "- `deck`: La cubierta del barco en la que se encontraba la cabina del pasajero (se pueden encontrar valores nulos).\n",
    "- `embark_town`: El nombre del pueblo de embarque.\n",
    "- `alive`: Una versión en texto de la variable `survived`, indicando 'yes' o 'no'.\n",
    "- `alone`: Una variable booleana que indica si el pasajero viajaba solo.\n",
    "\n",
    "Este conjunto de datos es útil para explorar conceptos de análisis de datos, incluyendo limpieza y preparación de datos, análisis exploratorio, y modelado predictivo. La variable `survived` se usa a menudo como la variable objetivo en tareas de clasificación para predecir si un pasajero sobrevivió al desastre del Titanic."
   ]
  },
  {
   "cell_type": "code",
   "execution_count": 17,
   "id": "5d577797-82f7-4f0d-8c9b-a307b2f4d584",
   "metadata": {},
   "outputs": [
    {
     "name": "stdout",
     "output_type": "stream",
     "text": [
      "Las primeras cinco filas del dataset de Titanic:\n",
      "   survived  pclass     sex   age  sibsp  parch     fare embarked  class  \\\n",
      "0         0       3    male  22.0      1      0   7.2500        S  Third   \n",
      "1         1       1  female  38.0      1      0  71.2833        C  First   \n",
      "2         1       3  female  26.0      0      0   7.9250        S  Third   \n",
      "3         1       1  female  35.0      1      0  53.1000        S  First   \n",
      "4         0       3    male  35.0      0      0   8.0500        S  Third   \n",
      "\n",
      "     who  adult_male deck  embark_town alive  alone  \n",
      "0    man        True  NaN  Southampton    no  False  \n",
      "1  woman       False    C    Cherbourg   yes  False  \n",
      "2  woman       False  NaN  Southampton   yes   True  \n",
      "3  woman       False    C  Southampton   yes  False  \n",
      "4    man        True  NaN  Southampton    no   True  \n",
      "\n",
      "\n",
      "Las últimas cinco filas del dataset de Titanic:\n",
      "     survived  pclass     sex   age  sibsp  parch   fare embarked   class  \\\n",
      "886         0       2    male  27.0      0      0  13.00        S  Second   \n",
      "887         1       1  female  19.0      0      0  30.00        S   First   \n",
      "888         0       3  female   NaN      1      2  23.45        S   Third   \n",
      "889         1       1    male  26.0      0      0  30.00        C   First   \n",
      "890         0       3    male  32.0      0      0   7.75        Q   Third   \n",
      "\n",
      "       who  adult_male deck  embark_town alive  alone  \n",
      "886    man        True  NaN  Southampton    no   True  \n",
      "887  woman       False    B  Southampton   yes   True  \n",
      "888  woman       False  NaN  Southampton    no  False  \n",
      "889    man        True    C    Cherbourg   yes   True  \n",
      "890    man        True  NaN   Queenstown    no   True  \n",
      "\n",
      "\n",
      "Resumen estadístico del dataset de Titanic:\n",
      "         survived      pclass         age       sibsp       parch        fare\n",
      "count  891.000000  891.000000  714.000000  891.000000  891.000000  891.000000\n",
      "mean     0.383838    2.308642   29.699118    0.523008    0.381594   32.204208\n",
      "std      0.486592    0.836071   14.526497    1.102743    0.806057   49.693429\n",
      "min      0.000000    1.000000    0.420000    0.000000    0.000000    0.000000\n",
      "25%      0.000000    2.000000   20.125000    0.000000    0.000000    7.910400\n",
      "50%      0.000000    3.000000   28.000000    0.000000    0.000000   14.454200\n",
      "75%      1.000000    3.000000   38.000000    1.000000    0.000000   31.000000\n",
      "max      1.000000    3.000000   80.000000    8.000000    6.000000  512.329200\n",
      "\n",
      "\n",
      "Información general del dataset de Titanic, incluyendo tipos de datos y valores nulos:\n",
      "<class 'pandas.core.frame.DataFrame'>\n",
      "RangeIndex: 891 entries, 0 to 890\n",
      "Data columns (total 15 columns):\n",
      " #   Column       Non-Null Count  Dtype   \n",
      "---  ------       --------------  -----   \n",
      " 0   survived     891 non-null    int64   \n",
      " 1   pclass       891 non-null    int64   \n",
      " 2   sex          891 non-null    object  \n",
      " 3   age          714 non-null    float64 \n",
      " 4   sibsp        891 non-null    int64   \n",
      " 5   parch        891 non-null    int64   \n",
      " 6   fare         891 non-null    float64 \n",
      " 7   embarked     889 non-null    object  \n",
      " 8   class        891 non-null    category\n",
      " 9   who          891 non-null    object  \n",
      " 10  adult_male   891 non-null    bool    \n",
      " 11  deck         203 non-null    category\n",
      " 12  embark_town  889 non-null    object  \n",
      " 13  alive        891 non-null    object  \n",
      " 14  alone        891 non-null    bool    \n",
      "dtypes: bool(2), category(2), float64(2), int64(4), object(5)\n",
      "memory usage: 80.7+ KB\n",
      "None\n"
     ]
    }
   ],
   "source": [
    "import seaborn as sns\n",
    "\n",
    "# Cargar el dataset de Titanic\n",
    "titanic = sns.load_dataset('titanic')\n",
    "\n",
    "# Mostrar las primeras filas del dataset\n",
    "print(\"Las primeras cinco filas del dataset de Titanic:\")\n",
    "print(titanic.head())\n",
    "print(\"\\n\")  # Agrega un salto de línea\n",
    "\n",
    "# Mostrar las últimas filas del dataset\n",
    "print(\"Las últimas cinco filas del dataset de Titanic:\")\n",
    "print(titanic.tail())\n",
    "print(\"\\n\")  # Agrega un salto de línea\n",
    "\n",
    "# Resumen estadístico del dataset\n",
    "print(\"Resumen estadístico del dataset de Titanic:\")\n",
    "print(titanic.describe())\n",
    "print(\"\\n\")  # Agrega un salto de línea\n",
    "\n",
    "# Información general del dataset, incluyendo el tipo de datos y valores nulos\n",
    "print(\"Información general del dataset de Titanic, incluyendo tipos de datos y valores nulos:\")\n",
    "print(titanic.info())\n"
   ]
  },
  {
   "cell_type": "markdown",
   "id": "b00599a8-b1e5-46b7-95dd-e88fa82d0e18",
   "metadata": {},
   "source": [
    "## Manejo de valores nulos\n",
    "\n",
    "Los valores nulos en un dataset pueden afectar el análisis y los resultados de los modelos de machine learning. Por lo tanto, es crucial identificar y tratar adecuadamente estos valores. Usaremos el dataset de Titanic para demostrar cómo gestionar los valores nulos.\n",
    "\n",
    "### Identificación de valores nulos\n",
    "\n",
    "Primero, debemos identificar dónde se encuentran los valores nulos en nuestro dataset.\n"
   ]
  },
  {
   "cell_type": "code",
   "execution_count": 18,
   "id": "9a0f9534-9560-40e8-9071-0085dd451066",
   "metadata": {},
   "outputs": [
    {
     "name": "stdout",
     "output_type": "stream",
     "text": [
      "Número de valores nulos por columna en el dataset de Titanic:\n",
      "survived         0\n",
      "pclass           0\n",
      "sex              0\n",
      "age            177\n",
      "sibsp            0\n",
      "parch            0\n",
      "fare             0\n",
      "embarked         2\n",
      "class            0\n",
      "who              0\n",
      "adult_male       0\n",
      "deck           688\n",
      "embark_town      2\n",
      "alive            0\n",
      "alone            0\n",
      "dtype: int64\n"
     ]
    }
   ],
   "source": [
    "# Identificación de valores nulos en el dataset de Titanic\n",
    "print(\"Número de valores nulos por columna en el dataset de Titanic:\")\n",
    "print(titanic.isnull().sum())\n"
   ]
  },
  {
   "cell_type": "markdown",
   "id": "bff5becc-8182-4cf4-a8ec-530715755311",
   "metadata": {},
   "source": [
    "### Métodos para tratar con valores nulos\n",
    "\n",
    "Hay varias estrategias para manejar los valores nulos, como eliminar las filas o columnas con valores nulos o llenar estos valores con un valor específico o un promedio.\n",
    "\n",
    "#### Eliminación de filas o columnas\n",
    "\n",
    "Eliminar las filas o columnas con valores nulos puede ser una solución rápida, pero puede resultar en la pérdida de datos importantes.\n"
   ]
  },
  {
   "cell_type": "code",
   "execution_count": 19,
   "id": "f28bd17c-4515-42cb-b452-f76c47302abf",
   "metadata": {},
   "outputs": [
    {
     "name": "stdout",
     "output_type": "stream",
     "text": [
      "Dataset después de eliminar filas con valores nulos:\n",
      "    survived  pclass     sex   age  sibsp  parch     fare embarked  class  \\\n",
      "1          1       1  female  38.0      1      0  71.2833        C  First   \n",
      "3          1       1  female  35.0      1      0  53.1000        S  First   \n",
      "6          0       1    male  54.0      0      0  51.8625        S  First   \n",
      "10         1       3  female   4.0      1      1  16.7000        S  Third   \n",
      "11         1       1  female  58.0      0      0  26.5500        S  First   \n",
      "\n",
      "      who  adult_male deck  embark_town alive  alone  \n",
      "1   woman       False    C    Cherbourg   yes  False  \n",
      "3   woman       False    C  Southampton   yes  False  \n",
      "6     man        True    E  Southampton    no   True  \n",
      "10  child       False    G  Southampton   yes  False  \n",
      "11  woman       False    C  Southampton   yes   True  \n",
      "Se eliminaron 709 filas. Quedan 182 filas en el dataset.\n",
      "\n",
      "Dataset después de eliminar la columna 'deck':\n",
      "   survived  pclass     sex   age  sibsp  parch     fare embarked  class  \\\n",
      "0         0       3    male  22.0      1      0   7.2500        S  Third   \n",
      "1         1       1  female  38.0      1      0  71.2833        C  First   \n",
      "2         1       3  female  26.0      0      0   7.9250        S  Third   \n",
      "3         1       1  female  35.0      1      0  53.1000        S  First   \n",
      "4         0       3    male  35.0      0      0   8.0500        S  Third   \n",
      "\n",
      "     who  adult_male  embark_town alive  alone  \n",
      "0    man        True  Southampton    no  False  \n",
      "1  woman       False    Cherbourg   yes  False  \n",
      "2  woman       False  Southampton   yes   True  \n",
      "3  woman       False  Southampton   yes  False  \n",
      "4    man        True  Southampton    no   True  \n"
     ]
    }
   ],
   "source": [
    "# Contar el número total de filas antes de la eliminación\n",
    "total_rows_before = titanic.shape[0]\n",
    "\n",
    "# Eliminación de filas con valores nulos\n",
    "titanic_dropna = titanic.dropna()\n",
    "print(\"Dataset después de eliminar filas con valores nulos:\")\n",
    "print(titanic_dropna.head())\n",
    "\n",
    "# Contar el número total de filas después de la eliminación\n",
    "total_rows_after = titanic_dropna.shape[0]\n",
    "\n",
    "# Calcular el número de filas eliminadas\n",
    "rows_dropped = total_rows_before - total_rows_after\n",
    "print(f\"Se eliminaron {rows_dropped} filas. Quedan {total_rows_after} filas en el dataset.\\n\")\n",
    "\n",
    "# Eliminación de columnas con valores nulos (ejemplo, eliminar la columna 'deck')\n",
    "titanic_drop_column = titanic.drop('deck', axis=1)\n",
    "print(\"Dataset después de eliminar la columna 'deck':\")\n",
    "print(titanic_drop_column.head())\n"
   ]
  },
  {
   "cell_type": "markdown",
   "id": "c2cb54c2-0a81-4ae7-b7f3-446d4d1529e2",
   "metadata": {},
   "source": [
    "#### Evaluación de la eliminación de valores nulos\n",
    "\n",
    "Después de eliminar las filas con valores nulos en el dataset de Titanic, terminamos eliminando 709 filas, dejándonos con solo 182 filas. Esto representa una pérdida de datos significativa, más precisamente, un $79$% de los datos originales. La pérdida de más del 75% de los datos es considerable y podría impactar negativamente en el análisis y la capacidad de modelado.\n",
    "\n",
    "Por lo tanto, la eliminación completa de filas con valores nulos puede no ser la mejor estrategia, especialmente cuando se trata de grandes cantidades de datos faltantes. Esta pérdida de datos justifica la exploración de métodos alternativos para manejar los valores nulos.\n",
    "\n",
    "En el caso de la columna `deck`, decidimos eliminarla ya que 688 de los datos en esa columna son nulos, lo cual representa un $77$% de los datos totales de la columna. Dado que una gran mayoría de los datos en `deck` son nulos, la columna ofrece información limitada y, por lo tanto, su eliminación puede ser justificada.\n",
    "\n",
    "#### Llenado de valores nulos\n",
    "\n",
    "Otra estrategia es llenar los valores nulos con un valor específico, como el promedio o la mediana de la columna.\n",
    "La columna 'age' del dataset de Titanic tiene 177 valores nulos, por lo cual llenaremos estos valores."
   ]
  },
  {
   "cell_type": "code",
   "execution_count": 20,
   "id": "1073be2b-1a2f-48ff-96bb-e7b6655c9399",
   "metadata": {},
   "outputs": [
    {
     "name": "stdout",
     "output_type": "stream",
     "text": [
      "El promedio de age es: 29.69911764705882\n",
      "Dataset después de llenar los valores nulos de 'age' con la media:\n",
      "     survived  pclass     sex        age  sibsp  parch   fare embarked  \\\n",
      "886         0       2    male  27.000000      0      0  13.00        S   \n",
      "887         1       1  female  19.000000      0      0  30.00        S   \n",
      "888         0       3  female  29.699118      1      2  23.45        S   \n",
      "889         1       1    male  26.000000      0      0  30.00        C   \n",
      "890         0       3    male  32.000000      0      0   7.75        Q   \n",
      "\n",
      "      class    who  adult_male  embark_town alive  alone  \n",
      "886  Second    man        True  Southampton    no   True  \n",
      "887   First  woman       False  Southampton   yes   True  \n",
      "888   Third  woman       False  Southampton    no  False  \n",
      "889   First    man        True    Cherbourg   yes   True  \n",
      "890   Third    man        True   Queenstown    no   True  \n"
     ]
    }
   ],
   "source": [
    "# Llenado de valores nulos con la media de la columna\n",
    "age_mean = titanic_drop_column['age'].mean()\n",
    "print(f\"El promedio de age es: {age_mean}\")\n",
    "titanic_filled = titanic_drop_column.fillna({'age': age_mean})\n",
    "print(\"Dataset después de llenar los valores nulos de 'age' con la media:\")\n",
    "print(titanic_filled.tail())"
   ]
  },
  {
   "cell_type": "markdown",
   "id": "b1191a86-7669-4934-a02f-9d1ee83fe19d",
   "metadata": {},
   "source": [
    "## Transformación de datos\n",
    "\n",
    "La transformación de datos es una parte crucial del proceso de limpieza y preparación de datos. En esta sección, veremos cómo aplicar funciones a las columnas para transformar los datos según nuestras necesidades.\n",
    "\n",
    "Vamos a utilizar el dataset de Titanic que hemos cargado previamente en la variable `titanic`.\n"
   ]
  },
  {
   "cell_type": "code",
   "execution_count": 21,
   "id": "fac87471-908c-4ade-b413-7aaf19691cfc",
   "metadata": {},
   "outputs": [
    {
     "name": "stdout",
     "output_type": "stream",
     "text": [
      "   survived  pclass     sex  age  sibsp  parch     fare embarked  class  \\\n",
      "0         0       3    male   22      1      0   7.2500        S  Third   \n",
      "1         1       1  female   38      1      0  71.2833        C  First   \n",
      "2         1       3  female   26      0      0   7.9250        S  Third   \n",
      "3         1       1  female   35      1      0  53.1000        S  First   \n",
      "4         0       3    male   35      0      0   8.0500        S  Third   \n",
      "\n",
      "     who  adult_male  embark_town  alive  alone  \n",
      "0    man           1  Southampton      0      0  \n",
      "1  woman           0    Cherbourg      1      0  \n",
      "2  woman           0  Southampton      1      1  \n",
      "3  woman           0  Southampton      1      0  \n",
      "4    man           1  Southampton      0      1  \n"
     ]
    }
   ],
   "source": [
    "# Trasladamos la base de datos titanic_filled a la variable titanic para tener los problemas de valores nulos con la edad arreglados \n",
    "titanic = titanic_filled\n",
    "\n",
    "# Convertir la columna 'age' a tipo entero (si es posible)\n",
    "titanic['age'] = titanic['age'].astype(int)\n",
    "\n",
    "# Convertir la columna 'adult_male' de booleano a entero (0 o 1)\n",
    "titanic['adult_male'] = titanic['adult_male'].astype(int)\n",
    "\n",
    "# Definir una función para convertir 'alive' de string a entero\n",
    "def map_alive(alive_str):\n",
    "    if alive_str == 'yes':\n",
    "        return 1\n",
    "    else:\n",
    "        return 0\n",
    "\n",
    "# Aplicar la función a la columna 'alive' utilizando apply\n",
    "titanic['alive'] = titanic['alive'].apply(map_alive)\n",
    "\n",
    "# Convertir la columna 'alone' de booleano a entero (0 o 1)\n",
    "titanic['alone'] = titanic['alone'].astype(int)\n",
    "\n",
    "# Mostrar las primeras filas del dataset transformado\n",
    "print(titanic.head())\n"
   ]
  },
  {
   "cell_type": "markdown",
   "id": "5e93ac08-13d2-4f40-ad2b-5e289af7eaea",
   "metadata": {},
   "source": [
    "### Transformación de columnas categóricas\n",
    "\n",
    "Las columnas categóricas contienen valores que representan categorías o grupos. En esta subsección, veremos cómo transformar algunas columnas categóricas del dataset de Titanic para que puedan ser utilizadas en análisis y modelos.\n",
    "\n",
    "Las columnas que vamos a transformar son:\n",
    "- `sex`: La clase que representa el genero (male o female).\n",
    "- `pclass`: La clase del billete (1, 2, o 3), que también puede indicar la clase socioeconómica.\n",
    "- `embarked`: El puerto de embarque (C = Cherbourg, Q = Queenstown, S = Southampton).\n",
    "- `class`: Un factor con niveles correspondientes a las clases de billetes (Primera, Segunda, Tercera).\n",
    "- `who`: Describe si el pasajero es hombre, mujer o niño.\n"
   ]
  },
  {
   "cell_type": "code",
   "execution_count": 22,
   "id": "87fd8395-5167-42ca-bc2c-ca0ddd3d62f5",
   "metadata": {},
   "outputs": [
    {
     "name": "stdout",
     "output_type": "stream",
     "text": [
      "   survived pclass     sex  age  sibsp  parch     fare embarked  class    who  \\\n",
      "0         0      3    male   22      1      0   7.2500        S  Third    man   \n",
      "1         1      1  female   38      1      0  71.2833        C  First  woman   \n",
      "2         1      3  female   26      0      0   7.9250        S  Third  woman   \n",
      "3         1      1  female   35      1      0  53.1000        S  First  woman   \n",
      "4         0      3    male   35      0      0   8.0500        S  Third    man   \n",
      "\n",
      "   adult_male  embark_town  alive  alone  \n",
      "0           1  Southampton      0      0  \n",
      "1           0    Cherbourg      1      0  \n",
      "2           0  Southampton      1      1  \n",
      "3           0  Southampton      1      0  \n",
      "4           1  Southampton      0      1  \n"
     ]
    }
   ],
   "source": [
    "# Transformar la columna 'pclass' a categoría\n",
    "\n",
    "titanic['sex'] = titanic['sex'].astype('category')\n",
    "\n",
    "# Transformar la columna 'pclass' a categoría\n",
    "titanic['pclass'] = titanic['pclass'].astype('category')\n",
    "\n",
    "# Transformar la columna 'embarked' a categoría\n",
    "titanic['embarked'] = titanic['embarked'].astype('category')\n",
    "\n",
    "# Transformar la columna 'class' a categoría\n",
    "titanic['class'] = titanic['class'].astype('category')\n",
    "\n",
    "# Transformar la columna 'who' a categoría\n",
    "titanic['who'] = titanic['who'].astype('category')\n",
    "\n",
    "# Mostrar las primeras filas del dataset transformado\n",
    "print(titanic.head())\n"
   ]
  },
  {
   "cell_type": "markdown",
   "id": "7a91d1c5-05d3-4361-b227-7dabf5734ab1",
   "metadata": {},
   "source": [
    "En este código, utilizamos el método astype('category') para transformar las columnas 'pclass', 'embarked', 'class' y 'who' en columnas categóricas. Esto convierte los valores en categorías que pueden ser más fácilmente utilizadas en análisis y modelos, ya que los algoritmos pueden interpretarlas como variables discretas en lugar de numéricas.\n",
    "\n",
    "#### Ejemplo de uso de variables categóricas en el dataset de Titanic\n",
    "\n",
    "En este ejemplo, utilizamos las variables transformadas a categorías en el dataset de Titanic para realizar un análisis simple. Comenzamos filtrando los pasajeros por clase de billete (`pclass`) para obtener subconjuntos de datos de pasajeros de primera, segunda y tercera clase.\n",
    "\n",
    "Luego, contamos la cantidad de pasajeros por clase utilizando el método `value_counts()`, lo cual nos da una idea de la distribución de pasajeros en cada clase.\n",
    "\n",
    "También calculamos la media de edad por clase utilizando `groupby` para agrupar los datos por clase de billete y luego calcular la media de la columna 'age'.\n",
    "\n",
    "Este análisis nos permite entender rápidamente la distribución de pasajeros por clase y tener una idea de la edad promedio de los pasajeros en cada clase en el dataset de Titanic. La transformación de variables a categorías facilita este tipo de análisis y permite una interpretación más clara de los resultados.\n"
   ]
  },
  {
   "cell_type": "code",
   "execution_count": 23,
   "id": "0cf675ca-555f-4426-bcb7-22798ece7685",
   "metadata": {},
   "outputs": [
    {
     "name": "stdout",
     "output_type": "stream",
     "text": [
      "Cantidad de pasajeros por clase:\n",
      "pclass\n",
      "3    491\n",
      "1    216\n",
      "2    184\n",
      "Name: count, dtype: int64\n",
      "\n",
      "\n",
      "Media de edad por clase:\n",
      "pclass\n",
      "1    36.944444\n",
      "2    29.804348\n",
      "3    26.191446\n",
      "Name: age, dtype: float64\n"
     ]
    },
    {
     "name": "stderr",
     "output_type": "stream",
     "text": [
      "/var/folders/8t/_30q61fx5slbhg1f1kh3fhtc0000gn/T/ipykernel_78119/1098297832.py:15: FutureWarning: The default of observed=False is deprecated and will be changed to True in a future version of pandas. Pass observed=False to retain current behavior or observed=True to adopt the future default and silence this warning.\n",
      "  average_age_by_class = titanic.groupby('pclass')['age'].mean()\n"
     ]
    }
   ],
   "source": [
    "# Filtrar los pasajeros por clase de billete (pclass)\n",
    "first_class_passengers = titanic[titanic['pclass'] == 1]\n",
    "second_class_passengers = titanic[titanic['pclass'] == 2]\n",
    "third_class_passengers = titanic[titanic['pclass'] == 3]\n",
    "\n",
    "# Contar la cantidad de pasajeros por clase\n",
    "passengers_by_class = titanic['pclass'].value_counts()\n",
    "\n",
    "# Mostrar la cantidad de pasajeros por clase\n",
    "print(\"Cantidad de pasajeros por clase:\")\n",
    "print(passengers_by_class)\n",
    "print(\"\\n\")  # Salto de línea\n",
    "\n",
    "# Calcular la media de edad por clase\n",
    "average_age_by_class = titanic.groupby('pclass')['age'].mean()\n",
    "\n",
    "# Mostrar la media de edad por clase\n",
    "print(\"Media de edad por clase:\")\n",
    "print(average_age_by_class)\n"
   ]
  },
  {
   "cell_type": "markdown",
   "id": "0b4a25eb-52f4-4403-b953-f9bb41a2e17b",
   "metadata": {},
   "source": [
    "## Filtrado de valores irrelevantes o repetidos\n",
    "\n",
    "En esta sección, vamos a identificar y filtrar valores en el dataset de Titanic que no aportan información relevante o que están repetidos con otras columnas.\n",
    "\n",
    "Las columnas que vamos a filtrar son:\n",
    "- `embark_town`: El nombre del pueblo de embarque, que tiene muchos valores únicos y no aporta datos significativos.\n",
    "- `alive`: Una versión en texto de la variable `survived`.\n"
   ]
  },
  {
   "cell_type": "code",
   "execution_count": 24,
   "id": "ffa5f2ff-4408-4e63-9cb2-64fded2f2412",
   "metadata": {},
   "outputs": [
    {
     "name": "stdout",
     "output_type": "stream",
     "text": [
      "Valores únicos de 'embark_town' antes del filtrado:\n",
      "['Southampton' 'Cherbourg' 'Queenstown' nan]\n",
      "\n",
      "\n",
      "Valores únicos de 'alive' antes del filtrado:\n",
      "[0 1]\n",
      "\n",
      "\n",
      "Las primeras filas del dataset después del filtrado:\n",
      "   survived pclass     sex  age  sibsp  parch     fare embarked  class    who  \\\n",
      "0         0      3    male   22      1      0   7.2500        S  Third    man   \n",
      "1         1      1  female   38      1      0  71.2833        C  First  woman   \n",
      "2         1      3  female   26      0      0   7.9250        S  Third  woman   \n",
      "3         1      1  female   35      1      0  53.1000        S  First  woman   \n",
      "4         0      3    male   35      0      0   8.0500        S  Third    man   \n",
      "\n",
      "   adult_male  alone  \n",
      "0           1      0  \n",
      "1           0      0  \n",
      "2           0      1  \n",
      "3           0      0  \n",
      "4           1      1  \n"
     ]
    }
   ],
   "source": [
    "# Mostrar los valores únicos de la columna 'embark_town'\n",
    "print(\"Valores únicos de 'embark_town' antes del filtrado:\")\n",
    "print(titanic['embark_town'].unique())\n",
    "print(\"\\n\")  # Salto de línea\n",
    "\n",
    "# Filtrar la columna 'embark_town' para eliminarla\n",
    "titanic.drop(columns=['embark_town'], inplace=True)\n",
    "\n",
    "# Mostrar los valores únicos de la columna 'alive' antes del filtrado\n",
    "print(\"Valores únicos de 'alive' antes del filtrado:\")\n",
    "print(titanic['alive'].unique())\n",
    "print(\"\\n\")  # Salto de línea\n",
    "\n",
    "# Filtrar la columna 'alive' para eliminarla\n",
    "titanic.drop(columns=['alive'], inplace=True)\n",
    "\n",
    "# Mostrar las primeras filas del dataset después del filtrado\n",
    "print(\"Las primeras filas del dataset después del filtrado:\")\n",
    "print(titanic.head())\n"
   ]
  },
  {
   "cell_type": "markdown",
   "id": "f7625d03-f67b-4c28-a58a-9730b40549fa",
   "metadata": {},
   "source": [
    "### Filtrado de datos\n",
    "\n",
    "El filtrado de datos nos permite seleccionar solo las filas que cumplan ciertas condiciones. En este caso, mostraremos cómo filtrar pasajeros mayores de 18 años y mujeres que sobrevivieron al desastre del Titanic.\n"
   ]
  },
  {
   "cell_type": "code",
   "execution_count": 25,
   "id": "a5ccc5a0-56b1-4c08-8eb0-08f06db4a4dc",
   "metadata": {},
   "outputs": [
    {
     "name": "stdout",
     "output_type": "stream",
     "text": [
      "Pasajeros mayores de 18 años:\n",
      "   survived pclass     sex  age  sibsp  parch     fare embarked  class    who  \\\n",
      "0         0      3    male   22      1      0   7.2500        S  Third    man   \n",
      "1         1      1  female   38      1      0  71.2833        C  First  woman   \n",
      "2         1      3  female   26      0      0   7.9250        S  Third  woman   \n",
      "3         1      1  female   35      1      0  53.1000        S  First  woman   \n",
      "4         0      3    male   35      0      0   8.0500        S  Third    man   \n",
      "\n",
      "   adult_male  alone  \n",
      "0           1      0  \n",
      "1           0      0  \n",
      "2           0      1  \n",
      "3           0      0  \n",
      "4           1      1  \n",
      "\n",
      "\n",
      "Mujeres que sobrevivieron al desastre:\n",
      "   survived pclass     sex  age  sibsp  parch     fare embarked   class  \\\n",
      "1         1      1  female   38      1      0  71.2833        C   First   \n",
      "2         1      3  female   26      0      0   7.9250        S   Third   \n",
      "3         1      1  female   35      1      0  53.1000        S   First   \n",
      "8         1      3  female   27      0      2  11.1333        S   Third   \n",
      "9         1      2  female   14      1      0  30.0708        C  Second   \n",
      "\n",
      "     who  adult_male  alone  \n",
      "1  woman           0      0  \n",
      "2  woman           0      1  \n",
      "3  woman           0      0  \n",
      "8  woman           0      0  \n",
      "9  child           0      0  \n",
      "\n",
      "\n"
     ]
    }
   ],
   "source": [
    "# Filtrado de pasajeros mayores de 18 años\n",
    "pasajeros_mayores_18 = titanic[titanic['age'] > 18]\n",
    "print(\"Pasajeros mayores de 18 años:\")\n",
    "print(pasajeros_mayores_18.head())\n",
    "print(\"\\n\")  # Agrega un salto de línea\n",
    "\n",
    "# Filtrado de mujeres que sobrevivieron al desastre\n",
    "mujeres_sobrevivientes = titanic[(titanic['sex'] == 'female') & (titanic['survived'] == 1)]\n",
    "print(\"Mujeres que sobrevivieron al desastre:\")\n",
    "print(mujeres_sobrevivientes.head())\n",
    "print(\"\\n\")  # Agrega un salto de línea\n"
   ]
  },
  {
   "cell_type": "markdown",
   "id": "7cf8369d-5731-4732-bed1-434241c2426b",
   "metadata": {},
   "source": [
    "### Ordenamiento de datos\n",
    "\n",
    "El ordenamiento de datos nos permite organizar las filas en función de los valores de una o más columnas. Aquí mostraremos cómo ordenar el dataset de Titanic por edad de manera ascendente y por tarifa de billete de manera descendente.\n"
   ]
  },
  {
   "cell_type": "code",
   "execution_count": 26,
   "id": "75d61bab-7b15-4f9c-8a60-bc40bbe43812",
   "metadata": {},
   "outputs": [
    {
     "name": "stdout",
     "output_type": "stream",
     "text": [
      "Dataset ordenado por edad de manera ascendente:\n",
      "     survived pclass     sex  age  sibsp  parch      fare embarked   class  \\\n",
      "644         1      3  female    0      2      1   19.2583        C   Third   \n",
      "78          1      2    male    0      0      2   29.0000        S  Second   \n",
      "469         1      3  female    0      2      1   19.2583        C   Third   \n",
      "831         1      2    male    0      1      1   18.7500        S  Second   \n",
      "305         1      1    male    0      1      2  151.5500        S   First   \n",
      "\n",
      "       who  adult_male  alone  \n",
      "644  child           0      0  \n",
      "78   child           0      0  \n",
      "469  child           0      0  \n",
      "831  child           0      0  \n",
      "305  child           0      0  \n",
      "\n",
      "\n",
      "Dataset ordenado por tarifa de billete de manera descendente:\n",
      "     survived pclass     sex  age  sibsp  parch      fare embarked  class  \\\n",
      "258         1      1  female   35      0      0  512.3292        C  First   \n",
      "737         1      1    male   35      0      0  512.3292        C  First   \n",
      "679         1      1    male   36      0      1  512.3292        C  First   \n",
      "88          1      1  female   23      3      2  263.0000        S  First   \n",
      "27          0      1    male   19      3      2  263.0000        S  First   \n",
      "\n",
      "       who  adult_male  alone  \n",
      "258  woman           0      1  \n",
      "737    man           1      1  \n",
      "679    man           1      0  \n",
      "88   woman           0      0  \n",
      "27     man           1      0  \n",
      "\n",
      "\n"
     ]
    }
   ],
   "source": [
    "# Ordenamiento de datos por edad de manera ascendente\n",
    "titanic_ordenado_edad_ascendente = titanic.sort_values(by='age', ascending=True)\n",
    "print(\"Dataset ordenado por edad de manera ascendente:\")\n",
    "print(titanic_ordenado_edad_ascendente.head())\n",
    "print(\"\\n\")  # Agrega un salto de línea\n",
    "\n",
    "# Ordenamiento de datos por tarifa de billete de manera descendente\n",
    "titanic_ordenado_tarifa_descendente = titanic.sort_values(by='fare', ascending=False)\n",
    "print(\"Dataset ordenado por tarifa de billete de manera descendente:\")\n",
    "print(titanic_ordenado_tarifa_descendente.head())\n",
    "print(\"\\n\")  # Agrega un salto de línea\n"
   ]
  },
  {
   "cell_type": "markdown",
   "id": "a9061ca5-b314-461f-b2fc-4c7ff564856f",
   "metadata": {},
   "source": [
    "## Agrupación y Agregación\n",
    "\n",
    "En esta sección, exploraremos cómo utilizar Pandas para agrupar datos en función de una o varias columnas utilizando el método `groupby()`. \n",
    "Luego, aplicaremos funciones de agregación como:\n",
    "- `sum()`\n",
    "- `mean()`\n",
    "- `median()`\n",
    "- `min()`\n",
    "- `max()`\n",
    "\n",
    "para obtener información resumida sobre los grupos creados.\n"
   ]
  },
  {
   "cell_type": "code",
   "execution_count": 27,
   "id": "8bdc2038-f097-4484-b0c8-2f71dea7e860",
   "metadata": {},
   "outputs": [
    {
     "name": "stdout",
     "output_type": "stream",
     "text": [
      "Suma de la cantidad de pasajeros por género y clase socioeconómica:\n",
      "sex     class \n",
      "female  First      94\n",
      "        Second     76\n",
      "        Third     144\n",
      "male    First     122\n",
      "        Second    108\n",
      "        Third     347\n",
      "dtype: int64\n",
      "\n",
      "\n",
      "Media de la edad de los pasajeros por género y clase socioeconómica:\n",
      "sex     class \n",
      "female  First     34.074468\n",
      "        Second    28.723684\n",
      "        Third     23.847222\n",
      "male    First     39.155738\n",
      "        Second    30.564815\n",
      "        Third     27.164265\n",
      "Name: age, dtype: float64\n",
      "\n",
      "\n",
      "Mínimo y máximo de la tarifa pagada por género y clase socioeconómica:\n",
      "                   min       max\n",
      "sex    class                    \n",
      "female First   25.9292  512.3292\n",
      "       Second  10.5000   65.0000\n",
      "       Third    6.7500   69.5500\n",
      "male   First    0.0000  512.3292\n",
      "       Second   0.0000   73.5000\n",
      "       Third    0.0000   69.5500\n"
     ]
    },
    {
     "name": "stderr",
     "output_type": "stream",
     "text": [
      "/var/folders/8t/_30q61fx5slbhg1f1kh3fhtc0000gn/T/ipykernel_78119/1849959678.py:2: FutureWarning: The default of observed=False is deprecated and will be changed to True in a future version of pandas. Pass observed=False to retain current behavior or observed=True to adopt the future default and silence this warning.\n",
      "  grupo_genero_clase = titanic.groupby(['sex', 'class'])\n"
     ]
    }
   ],
   "source": [
    "# Agrupación de datos por género y clase socioeconómica\n",
    "grupo_genero_clase = titanic.groupby(['sex', 'class'])\n",
    "\n",
    "# Suma de la cantidad de pasajeros por grupo\n",
    "print(\"Suma de la cantidad de pasajeros por género y clase socioeconómica:\")\n",
    "print(grupo_genero_clase.size())\n",
    "print(\"\\n\")  # Agrega un salto de línea\n",
    "\n",
    "# Media de la edad de los pasajeros por grupo\n",
    "print(\"Media de la edad de los pasajeros por género y clase socioeconómica:\")\n",
    "print(grupo_genero_clase['age'].mean())\n",
    "print(\"\\n\")  # Agrega un salto de línea\n",
    "\n",
    "# Mínimo y máximo de la tarifa pagada por grupo\n",
    "print(\"Mínimo y máximo de la tarifa pagada por género y clase socioeconómica:\")\n",
    "print(grupo_genero_clase['fare'].agg(['min', 'max']))\n"
   ]
  },
  {
   "cell_type": "markdown",
   "id": "fea19601-a731-40aa-a83b-5d2654118204",
   "metadata": {},
   "source": [
    "## Análisis de datos \n",
    "\n",
    "### Estadísticas descriptivas básicas\n",
    "\n",
    "Las estadísticas descriptivas básicas proporcionan una visión general de los datos, incluyendo medidas de tendencia central y dispersión. Vamos a aplicar estas estadísticas al dataset del Titanic que hemos cargado anteriormente.\n",
    "\n",
    "Comencemos explorando algunas estadísticas básicas sobre las variables numéricas en el dataset.\n"
   ]
  },
  {
   "cell_type": "code",
   "execution_count": 28,
   "id": "47070646-918c-4783-84d2-09b0650ceb90",
   "metadata": {},
   "outputs": [
    {
     "name": "stdout",
     "output_type": "stream",
     "text": [
      "Estadísticas descriptivas básicas del dataset de Titanic:\n",
      "Media de la edad: 29.544332210998878\n",
      "Mediana de la edad: 29.0\n",
      "Moda de la edad: 29\n",
      "Promedio de tarifa: 32.204207968574636\n",
      "Desviación estándar de la edad: 13.013778302447072\n",
      "Rango de edades: 80\n",
      "Varianza de la tarifa: 2469.436845743116\n"
     ]
    }
   ],
   "source": [
    "# Estadísticas descriptivas básicas\n",
    "print(\"Estadísticas descriptivas básicas del dataset de Titanic:\")\n",
    "\n",
    "# Medidas de tendencia central\n",
    "print(\"Media de la edad:\", titanic['age'].mean())\n",
    "print(\"Mediana de la edad:\", titanic['age'].median())\n",
    "print(\"Moda de la edad:\", titanic['age'].mode()[0])  # La moda puede tener varios valores, tomamos el primero\n",
    "print(\"Promedio de tarifa:\", titanic['fare'].mean())\n",
    "## Por que salen esos valores en la edad?\n",
    "\n",
    "\n",
    "# Medidas de dispersión\n",
    "print(\"Desviación estándar de la edad:\", titanic['age'].std())\n",
    "print(\"Rango de edades:\", titanic['age'].max() - titanic['age'].min())\n",
    "print(\"Varianza de la tarifa:\", titanic['fare'].var())\n"
   ]
  },
  {
   "cell_type": "markdown",
   "id": "fd92ae06-fdcb-4c4f-a46c-475f8d27554d",
   "metadata": {},
   "source": [
    "### Estadísticas descriptivas avanzadas\n",
    "\n",
    "En esta sección, utilizaremos Pandas para realizar un análisis más detallado de los datos del dataset de Titanic. Calcularemos estadísticas avanzadas como la varianza, la desviación estándar, los cuartiles y los percentiles. También exploraremos la distribución de los datos utilizando histogramas, box plots y violin plots.\n"
   ]
  },
  {
   "cell_type": "code",
   "execution_count": 29,
   "id": "fceddb4a-ac0b-46b2-bf7c-9783f4aff406",
   "metadata": {},
   "outputs": [
    {
     "name": "stdout",
     "output_type": "stream",
     "text": [
      "Estadísticas avanzadas para variables numéricas:\n",
      "              age        fare    survived\n",
      "count  891.000000  891.000000  891.000000\n",
      "mean    29.544332   32.204208    0.383838\n",
      "std     13.013778   49.693429    0.486592\n",
      "min      0.000000    0.000000    0.000000\n",
      "25%     22.000000    7.910400    0.000000\n",
      "50%     29.000000   14.454200    0.000000\n",
      "75%     35.000000   31.000000    1.000000\n",
      "max     80.000000  512.329200    1.000000\n",
      "\n",
      "\n"
     ]
    },
    {
     "data": {
      "image/png": "[encoded data removed]",
      "text/plain": [
       "<Figure size 1500x500 with 3 Axes>"
      ]
     },
     "metadata": {},
     "output_type": "display_data"
    }
   ],
   "source": [
    "import matplotlib.pyplot as plt\n",
    "\n",
    "# Métricas estadísticas solo sobre variables numéricas\n",
    "numeric_columns = ['age', 'fare', 'survived']\n",
    "numeric_data = titanic[numeric_columns]\n",
    "\n",
    "# Estadísticas avanzadas para variables numéricas\n",
    "print(\"Estadísticas avanzadas para variables numéricas:\")\n",
    "print(numeric_data.describe())\n",
    "print(\"\\n\")  # Salto de línea\n",
    "\n",
    "# Visualización en una fila: Histograma, Box Plot y Violin Plot\n",
    "plt.figure(figsize=(15, 5))\n",
    "\n",
    "# Histograma\n",
    "plt.subplot(1, 3, 1)\n",
    "sns.histplot(titanic['age'], kde=True)\n",
    "plt.title('Histograma de Edades')\n",
    "plt.xlabel('Edad')\n",
    "plt.ylabel('Frecuencia')\n",
    "\n",
    "# Box Plot\n",
    "plt.subplot(1, 3, 2)\n",
    "sns.boxplot(x='pclass', y='fare', data=titanic)\n",
    "plt.title('Box Plot de Clase vs. Precio del billete')\n",
    "plt.xlabel('Clase')\n",
    "plt.ylabel('Precio del billete')\n",
    "\n",
    "# Violin Plot\n",
    "plt.subplot(1, 3, 3)\n",
    "sns.violinplot(x='sex', y='age', data=titanic)\n",
    "plt.title('Violin Plot de Género vs. Edad')\n",
    "plt.xlabel('Género')\n",
    "plt.ylabel('Edad')\n",
    "\n",
    "plt.tight_layout()\n",
    "plt.show()\n"
   ]
  },
  {
   "cell_type": "markdown",
   "id": "d6ad961a-c9fd-4a27-870e-322e8be2b203",
   "metadata": {},
   "source": [
    "#### Histograma de Edades\n",
    "\n",
    "El histograma muestra la distribución de las edades de los pasajeros. La mayoría de los pasajeros tienen entre 20 y 30 años, con un pico significativo alrededor de los 25 años. La distribución es ligeramente sesgada hacia la derecha, indicando que hay un número menor de pasajeros de edad avanzada.\n",
    "\n",
    "\n",
    "#### Box Plot de Clase vs. Precio del Billete\n",
    "\n",
    "En el box plot, podemos observar la relación entre la clase del billete y su precio. La primera clase tiene una mediana de precio mucho más alta comparada con las otras dos clases, así como también una variabilidad mayor, indicada por la longitud de su box y los valores atípicos. La segunda y tercera clase tienen medianas más bajas y menos valores atípicos.\n",
    "\n",
    "#### Violin Plot de Género vs. Edad\n",
    "\n",
    "El violin plot muestra la distribución de edades desglosada por género. Ambas distribuciones son bastante similares, aunque la distribución masculina es ligeramente más ancha, sugiriendo una mayor dispersión en las edades. Además, se observa que la mediana de la edad de los hombres es un poco mayor que la de las mujeres.\n",
    "\n",
    "Cada visualización nos proporciona insights valiosos sobre la demografía y la economía de los pasajeros.\n",
    "\n"
   ]
  },
  {
   "cell_type": "markdown",
   "id": "b4216d84-8eb1-44e6-9178-bc1f94a37e53",
   "metadata": {},
   "source": [
    "\n",
    "### Correlación y causalidad\n",
    "\n",
    "En esta subsección, exploraremos las relaciones entre variables utilizando matrices de correlación y gráficos de dispersión. Además, introduciremos la diferencia entre correlación y causalidad, y cómo identificarlas.\n",
    "\n",
    "Comencemos analizando la correlación entre diferentes características del dataset de Titanic.\n"
   ]
  },
  {
   "cell_type": "code",
   "execution_count": 30,
   "id": "e25d61b7-08d2-4344-a002-e9ad00a4a885",
   "metadata": {},
   "outputs": [
    {
     "name": "stdout",
     "output_type": "stream",
     "text": [
      "Matriz de correlación:\n",
      "            survived       age     sibsp     parch      fare  adult_male  \\\n",
      "survived    1.000000 -0.067809 -0.035322  0.081629  0.257307   -0.557080   \n",
      "age        -0.067809  1.000000 -0.232743 -0.176744  0.093856    0.251055   \n",
      "sibsp      -0.035322 -0.232743  1.000000  0.414838  0.159651   -0.253586   \n",
      "parch       0.081629 -0.176744  0.414838  1.000000  0.216225   -0.349943   \n",
      "fare        0.257307  0.093856  0.159651  0.216225  1.000000   -0.182024   \n",
      "adult_male -0.557080  0.251055 -0.253586 -0.349943 -0.182024    1.000000   \n",
      "alone      -0.203367  0.176639 -0.584471 -0.583398 -0.271832    0.404744   \n",
      "\n",
      "               alone  \n",
      "survived   -0.203367  \n",
      "age         0.176639  \n",
      "sibsp      -0.584471  \n",
      "parch      -0.583398  \n",
      "fare       -0.271832  \n",
      "adult_male  0.404744  \n",
      "alone       1.000000  \n",
      "\n",
      "\n"
     ]
    },
    {
     "data": {
      "image/png": "[encoded data removed]",
      "text/plain": [
       "<Figure size 1000x800 with 2 Axes>"
      ]
     },
     "metadata": {},
     "output_type": "display_data"
    }
   ],
   "source": [
    "# Filtrar solo las columnas numéricas\n",
    "numeric_columns = titanic.select_dtypes(include=['number'])\n",
    "\n",
    "# Calcular la matriz de correlación\n",
    "correlation_matrix = numeric_columns.corr()\n",
    "\n",
    "# Mostrar la matriz de correlación\n",
    "print(\"Matriz de correlación:\")\n",
    "print(correlation_matrix)\n",
    "print(\"\\n\")  # Agrega un salto de línea\n",
    "\n",
    "# Visualizar la matriz de correlación utilizando un mapa de calor\n",
    "plt.figure(figsize=(10, 8))\n",
    "sns.heatmap(correlation_matrix, annot=True, cmap='coolwarm', linewidths=0.5)\n",
    "plt.title('Matriz de Correlación')\n",
    "plt.show()\n"
   ]
  },
  {
   "cell_type": "markdown",
   "id": "b3af1122-8f25-4fb6-9e1c-30cacd3cecf7",
   "metadata": {},
   "source": [
    "#### Interpretación de la Matriz de Correlación\n",
    "\n",
    "La matriz de correlación muestra la relación lineal entre las diferentes variables del dataset. Los valores de correlación van desde -1 hasta 1, donde:\n",
    "- 1 indica una correlación positiva perfecta (donde una variable aumenta con la otra)\n",
    "- -1 indica una correlación negativa perfecta (donde una variable disminuye a medida que la otra aumenta)\n",
    "- 0 indica que no hay correlación\n",
    "\n",
    "Por ejemplo, en la matriz adjunta, la correlación entre 'fare' (tarifa) y 'survived' (sobrevivió) es de 0.26, indicando una correlación positiva moderada: a mayor tarifa, parece haber una mayor probabilidad de supervivencia. Sin embargo, esta correlación no es suficientemente fuerte para inferir una causalidad directa.\n",
    "\n",
    "A continuación, vamos a explorar la diferencia entre correlación y causalidad utilizando gráficos de dispersión y discutiendo ejemplos de relaciones que pueden ser correlacionadas pero no causales.\n"
   ]
  },
  {
   "cell_type": "code",
   "execution_count": 31,
   "id": "1e8f108f-4f64-47e8-8141-78adb3fe4723",
   "metadata": {},
   "outputs": [
    {
     "data": {
      "image/png": "[encoded data removed]",
      "text/plain": [
       "<Figure size 800x600 with 1 Axes>"
      ]
     },
     "metadata": {},
     "output_type": "display_data"
    }
   ],
   "source": [
    "# Visualizar gráfico de dispersión entre edad y tarifa (fare)\n",
    "plt.figure(figsize=(8, 6))\n",
    "sns.scatterplot(x='age', y='fare', data=titanic)\n",
    "plt.title('Gráfico de Dispersión: Edad vs Tarifa')\n",
    "plt.xlabel('Edad')\n",
    "plt.ylabel('Tarifa')\n",
    "plt.show()\n"
   ]
  },
  {
   "cell_type": "markdown",
   "id": "7dce1868-3a64-40a9-ad1f-925b62dc189b",
   "metadata": {},
   "source": [
    "#### Diferencia entre Correlación y Causalidad\n",
    "\n",
    "El gráfico de dispersión entre 'age' (edad) y 'fare' (tarifa) muestra una nube de puntos que sugiere una correlación positiva débil: no hay una tendencia clara que indique que a medida que la edad aumenta, la tarifa también lo hace de manera significativa. Esto es un claro ejemplo de cómo dos variables pueden mostrar alguna forma de correlación sin una relación de causa y efecto.\n",
    "\n",
    "\n",
    "### Correlación No Implica Causalidad\n",
    "\n",
    "Es crucial no confundir correlación con causalidad. Aunque dos variables pueden mostrar una correlación, esto no significa que una sea la causa directa de la otra. Por ejemplo, la correlación positiva observada entre 'age' y 'fare' no significa que la edad sea un factor determinante del precio del billete. Pueden existir terceras variables que influyan en ambas, como el tipo de cabina seleccionada o la ruta del viaje.\n",
    "\n",
    "Antes de concluir que una variable causa otra, es necesario realizar un análisis exhaustivo, controlar variables confundentes y, cuando sea posible, diseñar estudios experimentales para probar la causalidad."
   ]
  }
 ],
 "metadata": {
  "kernelspec": {
   "display_name": "Python 3 (ipykernel)",
   "language": "python",
   "name": "python3"
  },
  "language_info": {
   "codemirror_mode": {
    "name": "ipython",
    "version": 3
   },
   "file_extension": ".py",
   "mimetype": "text/x-python",
   "name": "python",
   "nbconvert_exporter": "python",
   "pygments_lexer": "ipython3",
   "version": "3.11.6"
  }
 },
 "nbformat": 4,
 "nbformat_minor": 5
}
