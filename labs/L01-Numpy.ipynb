{
 "cells": [
  {
   "cell_type": "markdown",
   "id": "100fe319-0f81-4099-bd7d-45b83b0e215a",
   "metadata": {},
   "source": [
    "# Introducción a NumPy\n",
    "\n",
    "NumPy es una biblioteca central en Python utilizada para la computación científica. Proporciona un objeto de array multidimensional, y es esencial para el manejo de datos numéricos y la realización de operaciones matemáticas complejas.\n",
    "\n",
    "## Importando NumPy\n",
    "\n",
    "Para comenzar a utilizar NumPy, primero debemos importarlo. Esto se hace comúnmente con el alias `np` para simplificar el código.\n"
   ]
  },
  {
   "cell_type": "code",
   "execution_count": 1,
   "id": "9e89156f-cfdf-413f-8127-68b8d2f18ec6",
   "metadata": {},
   "outputs": [],
   "source": [
    "import numpy as np"
   ]
  },
  {
   "cell_type": "markdown",
   "id": "4d94eaff-31da-4b08-8873-1b29ec4486ce",
   "metadata": {},
   "source": [
    "## Creando Arrays en NumPy\n",
    "\n",
    "NumPy permite crear arrays de una manera muy eficiente. Vamos a explorar cómo crear diferentes tipos de arrays, incluyendo vectores fila, vectores columna, y matrices.\n"
   ]
  },
  {
   "cell_type": "code",
   "execution_count": 2,
   "id": "7e394c76-69e9-4df6-9c91-5ce786580e0a",
   "metadata": {},
   "outputs": [
    {
     "name": "stdout",
     "output_type": "stream",
     "text": [
      "Row vector: [1 2 3]\n",
      "Column vector:\n",
      " [[1]\n",
      " [2]\n",
      " [3]]\n",
      "Matrix:\n",
      " [[1 2 3]\n",
      " [4 5 6]]\n"
     ]
    }
   ],
   "source": [
    "# Create a row vector\n",
    "row_vector = np.array([1, 2, 3])\n",
    "print(\"Row vector:\", row_vector)\n",
    "\n",
    "# Create a column vector\n",
    "column_vector = np.array([[1], [2], [3]])\n",
    "print(\"Column vector:\\n\", column_vector)\n",
    "\n",
    "# Create a matrix\n",
    "matrix = np.array([[1, 2, 3], [4, 5, 6]])\n",
    "print(\"Matrix:\\n\", matrix)\n"
   ]
  },
  {
   "cell_type": "markdown",
   "id": "0b216f83-5218-4a37-96d8-5d305b306ca1",
   "metadata": {},
   "source": [
    "#### Dimensiones de un Array\n",
    "\n",
    "El `shape` de un array nos dice cuántos elementos contiene en cada dimensión. Vamos a explorar esto con nuestros arrays.\n"
   ]
  },
  {
   "cell_type": "code",
   "execution_count": 3,
   "id": "6de5e278-f6c3-4e41-b24c-15530460d10c",
   "metadata": {},
   "outputs": [
    {
     "name": "stdout",
     "output_type": "stream",
     "text": [
      "Shape of row vector: (3,)\n",
      "Shape of column vector: (3, 1)\n",
      "Shape of matrix: (2, 3)\n"
     ]
    }
   ],
   "source": [
    "print(\"Shape of row vector:\", row_vector.shape)\n",
    "print(\"Shape of column vector:\", column_vector.shape)\n",
    "print(\"Shape of matrix:\", matrix.shape)\n"
   ]
  },
  {
   "cell_type": "markdown",
   "id": "66091b1c-67f0-4637-9c44-a3e618164742",
   "metadata": {},
   "source": [
    "La salida de `shape` proporciona información vital sobre la estructura del array. \n",
    "Por ejemplo:\n",
    "- El vector fila `shape` muestra (3,), indicando que tiene 3 elementos en una dimensión.\n",
    "- El vector columna muestra (3, 1), indicando 3 elementos en una dimensión y 1 en otra.\n",
    "- La matriz muestra (2, 3), indicando 2 filas y 3 columnas.\n",
    "\n",
    "### Tensor en NumPy\n",
    "\n",
    "Un tensor es una generalización de vectores y matrices y se puede considerar como un array de n-dimensiones. Por ejemplo:\n",
    "- Un tensor de rango 0 es un escalar (un solo número).\n",
    "- Un tensor de rango 1 es un vector (un arreglo de números).\n",
    "- Un tensor de rango 2 es una matriz (un arreglo bidimensional de números).\n",
    "- Los tensores de rango superior (3, 4, etc.) son estructuras con más dimensiones.\n"
   ]
  },
  {
   "cell_type": "code",
   "execution_count": 4,
   "id": "e3024114-5ec4-4fc7-84a8-de8376a23be1",
   "metadata": {},
   "outputs": [
    {
     "name": "stdout",
     "output_type": "stream",
     "text": [
      "3D tensor:\n",
      " [[[1. 1.]\n",
      "  [1. 1.]]\n",
      "\n",
      " [[1. 1.]\n",
      "  [1. 1.]]]\n",
      "Shape of 3D tensor: (2, 2, 2)\n"
     ]
    }
   ],
   "source": [
    "# Create a rank 3 tensor\n",
    "tensor_3d = np.ones((2, 2, 2))\n",
    "print(\"3D tensor:\\n\", tensor_3d)\n",
    "print(\"Shape of 3D tensor:\", tensor_3d.shape)"
   ]
  },
  {
   "cell_type": "markdown",
   "id": "714ce0d3-d494-4da7-b109-28261fb7a8ad",
   "metadata": {},
   "source": [
    "Los tensores con mayor rango tienen dimensiones adicionales en su `shape`. Un tensor 3D tiene tres dimensiones en su `shape`, y un tensor 4D tiene cuatro. Estas estructuras son fundamentales en el aprendizaje profundo y otras áreas de análisis numérico."
   ]
  },
  {
   "cell_type": "markdown",
   "id": "68a350b8-9f9f-4c66-9a97-1ebfa501d1f0",
   "metadata": {},
   "source": [
    "### Creación de Tensores con Diferentes Funciones en NumPy\n",
    "\n",
    "NumPy ofrece varias funciones para crear arrays o tensores de diferentes dimensiones. Vamos a explorar cómo podemos crear tensores 1D, 2D y 3D utilizando diferentes funciones como `ones`, `zeros`, `arange`, y otras.\n",
    "\n",
    "#### `np.arange(stop)`\n",
    "- **Signature**: `np.arange(stop)`\n",
    "- **Input**:\n",
    "  - `stop`: Valor final de la secuencia (el valor inicial por defecto es 0 y el paso por defecto es 1).\n",
    "- **Descripción**: Genera valores equiespaciados dentro de un rango dado desde 0 hasta `stop - 1`.\n"
   ]
  },
  {
   "cell_type": "code",
   "execution_count": 5,
   "id": "07a10f54-4d56-4d28-8d43-bfedb671410d",
   "metadata": {},
   "outputs": [
    {
     "name": "stdout",
     "output_type": "stream",
     "text": [
      "Vector creado con np.arange:[0 1 2 3 4], shape: (5,)\n",
      "\n",
      "Matriz creada con np.arange:\n",
      " [[ 0  1  2  3]\n",
      " [ 4  5  6  7]\n",
      " [ 8  9 10 11]]\n",
      "shape: (3, 4)\n"
     ]
    }
   ],
   "source": [
    "# Ejemplo de np.arange con un solo valor\n",
    "arange_single_value_example = np.arange(5)\n",
    "print(f\"Vector creado con np.arange:{arange_single_value_example}, shape: {arange_single_value_example.shape}\\n\")\n",
    "\n",
    "# Crear una matriz usando np.arange y np.reshape\n",
    "arange_matrix_example = np.arange(12).reshape(3, 4)\n",
    "print(f\"Matriz creada con np.arange:\\n {arange_matrix_example}\")\n",
    "print(f\"shape: {arange_matrix_example.shape}\")"
   ]
  },
  {
   "cell_type": "markdown",
   "id": "d757babd-271e-47df-b9ba-32ec0aa86b06",
   "metadata": {},
   "source": [
    "#### `np.linspace(start, stop, num)`\n",
    "- **Signature**: `np.linspace(start, stop, num=50)`\n",
    "- **Input**:\n",
    "  - `start`: Valor inicial de la secuencia.\n",
    "  - `stop`: Valor final de la secuencia.\n",
    "  - `num`: Número de elementos generados.\n",
    "- **Descripción**: Devuelve números equiespaciados dentro de un rango específico.\n"
   ]
  },
  {
   "cell_type": "code",
   "execution_count": 6,
   "id": "433e7aa9-3bde-4564-9367-83c4683be82d",
   "metadata": {},
   "outputs": [
    {
     "name": "stdout",
     "output_type": "stream",
     "text": [
      "Vector creado con np.linspace:[ 0.   2.5  5.   7.5 10. ], shape: (5,)\n"
     ]
    }
   ],
   "source": [
    "# Ejemplo de np.linspace\n",
    "linspace_example = np.linspace(0, 10, 5)\n",
    "print(f\"Vector creado con np.linspace:{linspace_example}, shape: {linspace_example.shape}\")\n"
   ]
  },
  {
   "cell_type": "markdown",
   "id": "08356faf-8e59-421a-9b8d-27d05a18a43f",
   "metadata": {},
   "source": [
    "#### `np.full(shape, fill_value)`\n",
    "- **Signature**: `np.full(shape, fill_value)`\n",
    "- **Input**:\n",
    "  - `shape`: Dimensiones del array.\n",
    "  - `fill_value`: Valor para llenar el array.\n",
    "- **Descripción**: Crea un array con un tamaño y forma específicos, lleno de un valor dado.\n"
   ]
  },
  {
   "cell_type": "code",
   "execution_count": 7,
   "id": "b559171e-1e89-450c-a8ac-fc2ff2ad3c78",
   "metadata": {},
   "outputs": [
    {
     "name": "stdout",
     "output_type": "stream",
     "text": [
      "Vector creado np.full:\n",
      " [10 10 10]\n",
      "Matriz creada np.full:\n",
      " [[7 7 7]\n",
      " [7 7 7]]\n"
     ]
    }
   ],
   "source": [
    "# Ejemplo vector de np.full\n",
    "vector_full = np.full((3), 10)\n",
    "print(f\"Vector creado np.full:\\n {vector_full}\")\n",
    "\n",
    "# Ejemplo Matriz de np.full\n",
    "matrix_full = np.full((2, 3), 7)\n",
    "print(f\"Matriz creada np.full:\\n {matrix_full}\")"
   ]
  },
  {
   "cell_type": "markdown",
   "id": "943fb443-a03e-46cb-ac99-ee7141e6e4df",
   "metadata": {},
   "source": [
    "#### `np.eye(N, M=None, k=0)`\n",
    "- **Signature**: `np.eye(N, M=None, k=0)`\n",
    "- **Input**:\n",
    "  - `N`: Número de filas.\n",
    "  - `M`: Número de columnas, opcional.\n",
    "  - `k`: Índice de la diagonal (0 es la diagonal principal).\n",
    "- **Descripción**: Devuelve una matriz 2D con unos en la diagonal y ceros en el resto.\n"
   ]
  },
  {
   "cell_type": "code",
   "execution_count": 8,
   "id": "b34a1eb4-dd69-4eac-8cdb-8a073db3ff4d",
   "metadata": {},
   "outputs": [
    {
     "name": "stdout",
     "output_type": "stream",
     "text": [
      "np.eye:\n",
      "[[1. 0. 0.]\n",
      " [0. 1. 0.]\n",
      " [0. 0. 1.]]\n",
      "\n",
      "np.eye(3, k=1):\n",
      "[[0. 1. 0.]\n",
      " [0. 0. 1.]\n",
      " [0. 0. 0.]]\n"
     ]
    }
   ],
   "source": [
    "# Ejemplo de np.eye\n",
    "eye_example = np.eye(3)\n",
    "print(f\"np.eye:\\n{eye_example}\\n\", )\n",
    "\n",
    "# Ejemplo de np.eye\n",
    "eye_example = np.eye(3, k=1)\n",
    "print(f\"np.eye(3, k=1):\\n{eye_example}\")\n"
   ]
  },
  {
   "cell_type": "markdown",
   "id": "e73d491c-1c29-4812-ba63-9595a24a4bc8",
   "metadata": {},
   "source": [
    "#### `np.empty(shape)`\n",
    "- **Signature**: `np.empty(shape)`\n",
    "- **Input**:\n",
    "  - `shape`: Dimensiones del array.\n",
    "- **Descripción**: Crea un array sin inicializar de una forma dada. Los contenidos serán aleatorios y dependerán del estado de la memoria.\n"
   ]
  },
  {
   "cell_type": "code",
   "execution_count": 9,
   "id": "2fe7c9bb-7ea2-4d5d-87f0-a852d2bd1b0e",
   "metadata": {},
   "outputs": [
    {
     "name": "stdout",
     "output_type": "stream",
     "text": [
      "np.empty:\n",
      "[[0. 0. 0. 0.]\n",
      " [0. 0. 0. 0.]\n",
      " [0. 0. 0. 0.]]\n"
     ]
    }
   ],
   "source": [
    "# Ejemplo de np.empty\n",
    "empty_example = np.empty((3, 4))\n",
    "print(f\"np.empty:\\n{empty_example}\")"
   ]
  },
  {
   "cell_type": "markdown",
   "id": "3f111e20-af33-4093-9509-fe5b0da49907",
   "metadata": {},
   "source": [
    "#### `np.tile(A, reps)`\n",
    "- **Signature**: `np.tile(A, reps)`\n",
    "- **Input**:\n",
    "  - `A`: Array de entrada.\n",
    "  - `reps`: Número de repeticiones de `A` en cada dimensión.\n",
    "- **Descripción**: Construye un array repitiendo `A` el número de veces especificado por `reps`.\n"
   ]
  },
  {
   "cell_type": "code",
   "execution_count": 10,
   "id": "06da6ed6-4466-4a50-a58e-8e1e327376a0",
   "metadata": {},
   "outputs": [
    {
     "name": "stdout",
     "output_type": "stream",
     "text": [
      "np.tile:\n",
      "[[1 2 1 2]\n",
      " [3 4 3 4]\n",
      " [1 2 1 2]\n",
      " [3 4 3 4]]\n"
     ]
    }
   ],
   "source": [
    "# Ejemplo de np.tile\n",
    "tile_example = np.tile(np.array([[1, 2], [3, 4]]), (2, 2))\n",
    "print(f\"np.tile:\\n{tile_example}\")\n"
   ]
  },
  {
   "cell_type": "markdown",
   "id": "e14af326-e02d-4490-a543-8ef7d67722c4",
   "metadata": {},
   "source": [
    "#### `np.repeat(a, repeats, axis=None)`\n",
    "- **Signature**: `np.repeat(a, repeats, axis=None)`\n",
    "- **Input**:\n",
    "  - `a`: Array de entrada.\n",
    "  - `repeats`: Número de repeticiones de cada elemento.\n",
    "  - `axis`: Eje a lo largo del cual repetir los valores.\n",
    "- **Descripción**: Repite los elementos de `a` el número de veces indicado en `repeats`.\n"
   ]
  },
  {
   "cell_type": "code",
   "execution_count": 11,
   "id": "fae04579-9fe8-49b6-acb6-b0c3586a1a9b",
   "metadata": {},
   "outputs": [
    {
     "name": "stdout",
     "output_type": "stream",
     "text": [
      "np.repeat:\n",
      "[1 1 2 2 3 3]\n"
     ]
    }
   ],
   "source": [
    "# Ejemplo de np.repeat\n",
    "repeat_example = np.repeat(np.array([1, 2, 3]), 2, axis=0)\n",
    "print(f\"np.repeat:\\n{repeat_example}\")\n"
   ]
  },
  {
   "cell_type": "markdown",
   "id": "45bbab08-7c5d-495d-a937-cf25d938d7e2",
   "metadata": {},
   "source": [
    "Estas herramientas de NumPy son fundamentales para la manipulación de arrays y la preparación de datos en la computación científica y el aprendizaje automático."
   ]
  },
  {
   "cell_type": "markdown",
   "id": "522ecf04-c066-4646-85e7-e32a17a2cb65",
   "metadata": {},
   "source": [
    "## Manipulación de la Forma de Arrays y Matrices\n",
    "\n",
    "La manipulación de la forma de arrays y matrices es una tarea común en análisis de datos y machine learning. \n",
    "Utilizamos diferentes funciones en NumPy para cambiar la estructura de los arrays y matrices, \n",
    "lo cual nos permite preparar los datos para el análisis o ajustarlos a las necesidades de entrada/salida de los algoritmos de machine learning.\n",
    "\n",
    "### Uso de `np.reshape()`\n",
    "\n",
    "La función `np.reshape()` nos permite cambiar la forma de un array o matriz sin cambiar sus datos. \n",
    "Es útil para reorganizar un conjunto de datos en una estructura deseada.\n",
    "\n",
    "Veamos cómo podemos cambiar la forma de un array unidimensional a una matriz bidimensional o cambiar el tamaño de una matriz.\n"
   ]
  },
  {
   "cell_type": "code",
   "execution_count": 43,
   "id": "9431c1aa-26bc-461b-9429-5aad19097ca2",
   "metadata": {},
   "outputs": [
    {
     "name": "stdout",
     "output_type": "stream",
     "text": [
      "Array Original:\n",
      "[1 2 3 4 5 6 7 8 9]\n",
      "\\nMatriz Bidimensional:\n",
      "[[1 2 3]\n",
      " [4 5 6]\n",
      " [7 8 9]]\n"
     ]
    }
   ],
   "source": [
    "# Creando un array unidimensional\n",
    "array = np.arange(1, 10)  # Un array de 1 a 9\n",
    "print(\"Array Original:\")\n",
    "print(array)\n",
    "\n",
    "# Cambiando la forma a una matriz 3x3\n",
    "matrix = array.reshape(3, 3)\n",
    "print(\"\\\\nMatriz Bidimensional:\")\n",
    "print(matrix)\n"
   ]
  },
  {
   "cell_type": "markdown",
   "id": "18a835f8-5e05-4410-a61d-3084879d64d7",
   "metadata": {},
   "source": [
    "## Indexación y Slicing en Vectores y Matrices\n",
    "\n",
    "En esta sección, exploraremos cómo acceder a elementos específicos y secciones en vectores y matrices utilizando NumPy. La indexación y el slicing son técnicas fundamentales en Python y NumPy, permitiéndonos seleccionar elementos individuales o subconjuntos de datos de estructuras más grandes.\n",
    "\n",
    "### Indexación en NumPy\n",
    "La indexación nos permite acceder a un elemento específico dentro de un array de NumPy.\n"
   ]
  },
  {
   "cell_type": "code",
   "execution_count": 12,
   "id": "4167a480-76fc-4eee-bee5-a733a5150944",
   "metadata": {},
   "outputs": [
    {
     "name": "stdout",
     "output_type": "stream",
     "text": [
      "Elemento en la posición 2: 3\n",
      "Elemento en la fila 1, columna 2: 6\n"
     ]
    }
   ],
   "source": [
    "\n",
    "# Creando un vector y accediendo a un elemento\n",
    "vector = np.array([1, 2, 3, 4, 5])\n",
    "print(\"Elemento en la posición 2:\", vector[2])\n",
    "\n",
    "# Creando una matriz y accediendo a un elemento\n",
    "matrix = np.array([[1, 2, 3], [4, 5, 6], [7, 8, 9]])\n",
    "print(\"Elemento en la fila 1, columna 2:\", matrix[1, 2])\n"
   ]
  },
  {
   "cell_type": "markdown",
   "id": "cd6245ac-68ad-4b78-ab2e-b3d13db15831",
   "metadata": {},
   "source": [
    "### Slicing en NumPy\n",
    "El slicing nos permite acceder a secuencias de datos dentro del array.\n"
   ]
  },
  {
   "cell_type": "code",
   "execution_count": 14,
   "id": "c3a54089-a95a-43e3-80da-61c206e53621",
   "metadata": {},
   "outputs": [
    {
     "name": "stdout",
     "output_type": "stream",
     "text": [
      "Elementos del índice 1 al 3: [2 3 4]\n",
      "Primera fila: [1 2 3]\n",
      "Segunda columna: [2 5 8]\n",
      "Submatriz con las primeras 2 filas y columnas:\n",
      " [[1 2]\n",
      " [4 5]]\n"
     ]
    }
   ],
   "source": [
    "# Accediendo a una parte del vector\n",
    "print(\"Elementos del índice 1 al 3:\", vector[1:4])\n",
    "\n",
    "# Accediendo a filas y columnas específicas en la matriz\n",
    "print(\"Primera fila:\", matrix[0, :])\n",
    "print(\"Segunda columna:\", matrix[:, 1])\n",
    "\n",
    "# Obteniendo una submatriz\n",
    "print(\"Submatriz con las primeras 2 filas y columnas:\\n\", matrix[:2, :2])\n"
   ]
  },
  {
   "cell_type": "markdown",
   "id": "5eeae123-2186-490d-98f9-15f7d4ea5275",
   "metadata": {},
   "source": [
    "## Operaciones Matemáticas y Algebraicas con NumPy\n",
    "\n",
    "En esta sección, exploraremos cómo realizar operaciones matemáticas y algebraicas básicas usando NumPy, una de las bibliotecas más fundamentales en Python para la computación científica. Aprenderás a manejar vectores y matrices, realizar operaciones elemento a elemento, y aplicar conceptos de álgebra lineal esenciales para el análisis de datos y el modelado matemático.\n",
    "\n",
    "### Operaciones Elemento a Elemento en Vectores y Matrices\n",
    "\n",
    "NumPy permite realizar operaciones matemáticas elemento a elemento en vectores y matrices de manera eficiente y sencilla. Esto incluye suma, resta, multiplicación por escalar, y división. Vamos a ver cómo se pueden llevar a cabo estas operaciones.\n",
    "\n",
    "### Operaciones Elemento a Elemento en Vectores\n"
   ]
  },
  {
   "cell_type": "code",
   "execution_count": 15,
   "id": "f469ea5f-044c-4076-be8f-b2932835dc9e",
   "metadata": {},
   "outputs": [
    {
     "name": "stdout",
     "output_type": "stream",
     "text": [
      "Suma: [5 7 9]\n",
      "Resta: [-3 -3 -3]\n",
      "Multiplicación por escalar: [2 4 6]\n",
      "División: [0.25 0.4  0.5 ]\n"
     ]
    }
   ],
   "source": [
    "# Crear dos vectores de ejemplo\n",
    "vector_a = np.array([1, 2, 3])\n",
    "vector_b = np.array([4, 5, 6])\n",
    "\n",
    "# Suma elemento a elemento\n",
    "suma = vector_a + vector_b\n",
    "print(\"Suma:\", suma)\n",
    "\n",
    "# Resta elemento a elemento\n",
    "resta = vector_a - vector_b\n",
    "print(\"Resta:\", resta)\n",
    "\n",
    "# Multiplicación por escalar\n",
    "escalar = 2\n",
    "multiplicacion_escalar = vector_a * escalar\n",
    "print(\"Multiplicación por escalar:\", multiplicacion_escalar)\n",
    "\n",
    "# División elemento a elemento\n",
    "division = vector_a / vector_b\n",
    "print(\"División:\", division)\n"
   ]
  },
  {
   "cell_type": "markdown",
   "id": "5b456388-88c2-401f-b103-a1fba19b0a60",
   "metadata": {},
   "source": [
    "### Operaciones Elemento a Elemento en Matrices"
   ]
  },
  {
   "cell_type": "code",
   "execution_count": 16,
   "id": "846152e0-8787-4baa-a8f6-a528609c9e93",
   "metadata": {},
   "outputs": [
    {
     "name": "stdout",
     "output_type": "stream",
     "text": [
      "Suma de matrices:\n",
      " [[ 6  8]\n",
      " [10 12]]\n",
      "Resta de matrices:\n",
      " [[-4 -4]\n",
      " [-4 -4]]\n",
      "Multiplicación elemento a elemento:\n",
      " [[ 5 12]\n",
      " [21 32]]\n",
      "División elemento a elemento:\n",
      " [[0.2        0.33333333]\n",
      " [0.42857143 0.5       ]]\n"
     ]
    }
   ],
   "source": [
    "# Crear dos matrices de ejemplo\n",
    "matrix_a = np.array([[1, 2], [3, 4]])\n",
    "matrix_b = np.array([[5, 6], [7, 8]])\n",
    "\n",
    "# Suma elemento a elemento\n",
    "suma_matrices = matrix_a + matrix_b\n",
    "print(\"Suma de matrices:\\n\", suma_matrices)\n",
    "\n",
    "# Resta elemento a elemento\n",
    "resta_matrices = matrix_a - matrix_b\n",
    "print(\"Resta de matrices:\\n\", resta_matrices)\n",
    "\n",
    "# Multiplicación elemento a elemento\n",
    "multiplicacion_matrices = matrix_a * matrix_b\n",
    "print(\"Multiplicación elemento a elemento:\\n\", multiplicacion_matrices)\n",
    "\n",
    "# División elemento a elemento\n",
    "division_matrices = matrix_a / matrix_b\n",
    "print(\"División elemento a elemento:\\n\", division_matrices)"
   ]
  },
  {
   "cell_type": "markdown",
   "id": "e235a681-7fe5-4286-9b91-2e9fb4c9a011",
   "metadata": {},
   "source": [
    "### Multiplicación de Matrices con Vectores\n",
    "\n",
    "La multiplicación de matrices con vectores es un caso especial de la multiplicación de matrices, esencial en muchas aplicaciones matemáticas y computacionales. Comprender cómo se realiza esta operación y la dimensión del resultado es crucial para la correcta aplicación de conceptos de álgebra lineal.\n",
    "\n",
    "#### Multiplicación Matriz-Vector Columna\n",
    "\n",
    "Si tenemos una matriz $A$ de tamaño $m \\times n$ y multiplicamos por un vector columna $B$ de tamaño $n \\times 1$, el resultado será un vector columna $C$ de tamaño $m \\times 1$. La operación se representa como:\n",
    "\n",
    "  $$\n",
    "  A_{m \\times n} \\times B_{n \\times 1} = C_{m \\times 1}\n",
    "  $$\n",
    "\n",
    "  Donde $A$ es una matriz de $m$ filas y $n$ columnas, $B$ es un vector columna de $n$ filas, y $C$ es el vector resultado de $m$ filas.\n",
    "  \n",
    "  **Es fundamental verificar que las dimensiones sean compatibles para la multiplicación, asegurando que el número de columnas en el primer operando sea igual al número de filas en el segundo operando.**\n",
    "\n",
    "Consideremos una matriz $A$ de tamaño $2 \\times 3$ y un vector columna $B$ de tamaño $3 \\times 1$:\n",
    "\n",
    "  $$\n",
    "  A = \\begin{pmatrix}\n",
    "  a_{11} & a_{12} & a_{13} \\\\\n",
    "  a_{21} & a_{22} & a_{23}\n",
    "  \\end{pmatrix},\n",
    "  B = \\begin{pmatrix}\n",
    "  b_{11} \\\\\n",
    "  b_{21} \\\\\n",
    "  b_{31}\n",
    "  \\end{pmatrix}\n",
    "  $$\n",
    "\n",
    "  La multiplicación se realiza como:\n",
    "\n",
    "  $$\n",
    "  AB = \\begin{pmatrix}\n",
    "  a_{11} \\cdot b_{11} + a_{12} \\cdot b_{21} + a_{13} \\cdot b_{31} \\\\\n",
    "  a_{21} \\cdot b_{11} + a_{22} \\cdot b_{21} + a_{23} \\cdot b_{31}\n",
    "  \\end{pmatrix}\n",
    "  $$\n",
    "\n",
    "  El resultado es un vector columna de tamaño $2 \\times 1$, correspondiente al número de filas de la matriz $A$."
   ]
  },
  {
   "cell_type": "code",
   "execution_count": 26,
   "id": "c6238ae3-b3cf-416c-8a5e-49ad88236a41",
   "metadata": {},
   "outputs": [
    {
     "name": "stdout",
     "output_type": "stream",
     "text": [
      "Resultado de la multiplicación matriz-vector columna:\n",
      " [[18]\n",
      " [38]]\n"
     ]
    }
   ],
   "source": [
    "# Definir un vector como vector columna\n",
    "vector_column = np.array([[1], [2], [3]])\n",
    "matrix = np.array([[3, 3, 3], [5, 6, 7]])\n",
    "\n",
    "# Multiplicación de la matriz por el vector columna\n",
    "result_colum = np.dot(matrix, vector_column)\n",
    "print(\"Resultado de la multiplicación matriz-vector columna:\\n\", result_colum)\n"
   ]
  },
  {
   "cell_type": "markdown",
   "id": "c40f4894-a0eb-4cae-8858-b40d3e220850",
   "metadata": {},
   "source": [
    "#### Multiplicación Matriz-Vector Fila\n",
    "\n",
    "Si multiplicamos un vector fila $D$ de tamaño $1 \\times m$ por una matriz $E$ de tamaño $m \\times n$, el resultado será un vector fila $F$ de tamaño $1 \\times n$. Esta operación se representa como:\n",
    "\n",
    "  $$\n",
    "  D_{1 \\times m} \\times E_{m \\times n} = F_{1 \\times n}\n",
    "  $$\n",
    "\n",
    "  Aquí, $D$ es un vector fila de $m$ columnas, $E$ es una matriz de $m$ filas y $n$ columnas, y $F$ es el vector resultado de $n$ columnas.\n",
    "\n",
    "**Es fundamental verificar que las dimensiones sean compatibles para la multiplicación, asegurando que el número de columnas en el primer operando sea igual al número de filas en el segundo operando.**\n",
    "\n",
    "Consideremos un vector fila $D$ de tamaño $1 \\times 2$ y una matriz $E$ de tamaño $2 \\times 3$:\n",
    "\n",
    "  $$\n",
    "  D = \\begin{pmatrix}\n",
    "  d_{11} & d_{12}\n",
    "  \\end{pmatrix},\n",
    "  E = \\begin{pmatrix}\n",
    "  e_{11} & e_{12} & e_{13} \\\\\n",
    "  e_{21} & e_{22} & e_{23}\n",
    "  \\end{pmatrix}\n",
    "  $$\n",
    "\n",
    "  La multiplicación se calcula como:\n",
    "\n",
    "  $$\n",
    "  DE = \\begin{pmatrix}\n",
    "  d_{11} \\cdot e_{11} + d_{12} \\cdot e_{21} & d_{11} \\cdot e_{12} + d_{12} \\cdot e_{22} & d_{11} \\cdot e_{13} + d_{12} \\cdot e_{23}\n",
    "  \\end{pmatrix}\n",
    "  $$\n",
    "\n",
    "  El resultado es un vector fila de tamaño $1 \\times 3$, que es el número de columnas de la matriz $E$.\n"
   ]
  },
  {
   "cell_type": "code",
   "execution_count": 32,
   "id": "40707699-d659-4e1f-ab44-e7daa484b9cb",
   "metadata": {},
   "outputs": [
    {
     "name": "stdout",
     "output_type": "stream",
     "text": [
      "Resultado de la multiplicación matriz-vector fila:\n",
      " [11 11 11]\n"
     ]
    }
   ],
   "source": [
    "# Definir un vector como vector fila\n",
    "vector_row = np.array([1, 2])\n",
    "matrix = np.array([[3, 3, 3], [4, 4, 4]])\n",
    "\n",
    "# Multiplicación de la matriz por el vector fila\n",
    "result_row = np.dot(vector_row, matrix)\n",
    "print(\"Resultado de la multiplicación matriz-vector fila:\\n\", result_row)\n"
   ]
  },
  {
   "cell_type": "markdown",
   "id": "3f5b1b44-0634-41b1-abac-700d2bac20cc",
   "metadata": {},
   "source": [
    "#### Multiplicación de Matrices\n",
    "\n",
    "Consideremos dos matrices $A$ de tamaño $2 \\times 3$ y $B$ de tamaño $3 \\times 2$:\n",
    "\n",
    "$$\n",
    "A = \\begin{pmatrix}\n",
    "a_{11} & a_{12} & a_{13} \\\\\n",
    "a_{21} & a_{22} & a_{23}\n",
    "\\end{pmatrix},\n",
    "B = \\begin{pmatrix}\n",
    "b_{11} & b_{12} \\\\\n",
    "b_{21} & b_{22} \\\\\n",
    "b_{31} & b_{32}\n",
    "\\end{pmatrix}\n",
    "$$\n",
    "\n",
    "La multiplicación de $A$ por $B$ se calcula como sigue:\n",
    "\n",
    "$$\n",
    "AB = \\begin{pmatrix}\n",
    "a_{11} \\cdot b_{11} + a_{12} \\cdot b_{21} + a_{13} \\cdot b_{31} & a_{11} \\cdot b_{12} + a_{12} \\cdot b_{22} + a_{13} \\cdot b_{32} \\\\\n",
    "a_{21} \\cdot b_{11} + a_{22} \\cdot b_{21} + a_{23} \\cdot b_{31} & a_{21} \\cdot b_{12} + a_{22} \\cdot b_{22} + a_{23} \\cdot b_{32}\n",
    "\\end{pmatrix}\n",
    "$$\n",
    "\n",
    "El resultado es una nueva matriz $C$ de tamaño $2 \\times 2$, donde cada elemento $c_{ij}$ de $C$ es el resultado de la suma de los productos de los elementos correspondientes de la fila $i$ de $A$ y la columna $j$ de $B$. Esto muestra que el tamaño resultante de la multiplicación de matrices es determinado por el número de filas de la primera matriz y el número de columnas de la segunda matriz. En este caso, dado que $A$ es $2 \\times 3$ y $B$ es $3 \\times 2$, el resultado $C$ es una matriz $2 \\times 2$.\n"
   ]
  },
  {
   "cell_type": "code",
   "execution_count": 33,
   "id": "23bd14ac-2159-4dd7-b940-7b99da67a4ce",
   "metadata": {},
   "outputs": [
    {
     "name": "stdout",
     "output_type": "stream",
     "text": [
      "Resultado de la multiplicación de matrices:\n",
      " [[ 58  64]\n",
      " [139 154]]\n"
     ]
    }
   ],
   "source": [
    "# Definir dos matrices\n",
    "matrix_a = np.array([[1, 2, 3], [4, 5, 6]])\n",
    "matrix_b = np.array([[7, 8], [9, 10], [11, 12]])\n",
    "\n",
    "# Multiplicación de las matrices\n",
    "result_matrix = np.dot(matrix_a, matrix_b)\n",
    "print(\"Resultado de la multiplicación de matrices:\\n\", result_matrix)\n"
   ]
  },
  {
   "cell_type": "markdown",
   "id": "e48b9fb6-18d1-42d6-9acd-76655eebc205",
   "metadata": {},
   "source": []
  },
  {
   "cell_type": "markdown",
   "id": "70d61bf9-9981-4695-9672-0b9881a9d5c5",
   "metadata": {},
   "source": [
    "## Álgebra Lineal en NumPy\n",
    "\n",
    "Ahora, profundizaremos en operaciones de álgebra lineal que son fundamentales para la ciencia de datos y el machine learning. Utilizaremos el submódulo `np.linalg` de NumPy para realizar operaciones como multiplicación de matrices, cálculo de determinantes, inversas de matrices, y encontrar autovalores y autovectores.\n",
    "\n",
    "### Operaciones esenciales\n",
    "\n",
    "Estas operaciones son esenciales en el álgebra lineal y tienen muchas aplicaciones en la resolución de sistemas de ecuaciones, análisis de estabilidad, y más.\n",
    "\n",
    "#### Transposición de Matrices\n",
    "\n",
    "La transposición de una matriz es una operación que intercambia filas por columnas en la matriz. Dada una matriz  $A$, su transpuesta, denotada como $A^T$, se forma intercambiando los elementos de las filas por las columnas correspondientes.\n",
    "\n",
    "La transposición es fundamental en muchas aplicaciones de álgebra lineal y análisis de datos, ya que a menudo necesitamos ajustar la orientación de los datos para realizar cálculos o facilitar ciertas operaciones.\n",
    "\n",
    "Consideremos la siguiente matriz $A$ y su transpuesta $A^T$:\n",
    "\n",
    "$$\n",
    "A = \\begin{pmatrix}\n",
    "1 & 2 \\\\\n",
    "3 & 4\n",
    "\\end{pmatrix}\n",
    "\\quad\n",
    "A^T = \\begin{pmatrix}\n",
    "1 & 3 \\\\\n",
    "2 & 4\n",
    "\\end{pmatrix}\n",
    "$$\n",
    "\n",
    "Podemos calcular la transpuesta de $A$ utilizando NumPy:\n"
   ]
  },
  {
   "cell_type": "code",
   "execution_count": 42,
   "id": "b855e098-3acc-474b-8a53-6a1d226d5dde",
   "metadata": {},
   "outputs": [
    {
     "name": "stdout",
     "output_type": "stream",
     "text": [
      "Matriz Original A:\n",
      " [[ 7  8]\n",
      " [ 9 10]\n",
      " [11 12]]\n",
      "Matriz Transpuesta A^T:\n",
      " [[ 7  9 11]\n",
      " [ 8 10 12]]\n"
     ]
    }
   ],
   "source": [
    "# Matriz B\n",
    "A = np.array([[7, 8], [9, 10], [11, 12]])\n",
    "print(\"Matriz Original A:\\n\", A)\n",
    "# Transpuesta de B\n",
    "A_t = A.T\n",
    "print(\"Matriz Transpuesta A^T:\\n\", A_t)"
   ]
  },
  {
   "cell_type": "markdown",
   "id": "8d729726-7139-4dfe-bcc3-b3c8a9122995",
   "metadata": {},
   "source": [
    "#### Determinante de una Matriz\n",
    "\n",
    "El determinante es una propiedad numérica que se puede calcular de una matriz cuadrada. Proporciona información importante sobre la matriz, como si tiene inversa (una matriz es invertible si y solo si su determinante no es cero). El determinante de una matriz de $2 \\times 2$ se calcula como el producto de los elementos en la diagonal principal menos el producto de los elementos en la diagonal secundaria.\n",
    "\n",
    "Consideremos una matriz $A$ de tamaño $2 \\times 2$:\n",
    "\n",
    "$$\n",
    "A = \\begin{pmatrix}\n",
    "a_{11} & a_{12} \\\\\n",
    "a_{21} & a_{22}\n",
    "\\end{pmatrix}\n",
    "$$\n",
    "\n",
    "El determinante de $A$ se calcula usando la siguiente fórmula:\n",
    "\n",
    "$$\n",
    "\\text{det}(A) = a_{11} \\cdot a_{22} - a_{12} \\cdot a_{21}\n",
    "$$\n",
    "\n",
    "El determinante proporciona información crucial sobre la matriz, como su invertibilidad y propiedades relacionadas con el volumen en transformaciones lineales.\n",
    "\n",
    "Ahora, veamos cómo calcular el determinante de una matriz usando NumPy en Python:\n"
   ]
  },
  {
   "cell_type": "code",
   "execution_count": 38,
   "id": "87ce0cc5-1eb9-40e1-80b0-daeb7396fcea",
   "metadata": {},
   "outputs": [
    {
     "name": "stdout",
     "output_type": "stream",
     "text": [
      "Determinante: -18.999999999999996\n"
     ]
    }
   ],
   "source": [
    "# Cálculo del determinante de una matriz\n",
    "matrix = np.array([[-1, 5], [3, 4]])\n",
    "determinant = np.linalg.det(matrix)\n",
    "print(\"Determinante:\", determinant)"
   ]
  },
  {
   "cell_type": "markdown",
   "id": "598fb765-e4ab-4322-b703-d35d6c684dbc",
   "metadata": {},
   "source": [
    "#### Inversa de una Matriz\n",
    "\n",
    "La inversa de una matriz cuadrada $A$ es otra matriz, denotada como $A^{-1}$, tal que la multiplicación de $A$ por $A^{-1}$ (en cualquier orden) da como resultado la matriz identidad $I$. Esto es, $AA^{-1} = A^{-1}A = I$. La existencia de una inversa es indicativa de la invertibilidad de la matriz, que está directamente relacionada con la propiedad de que el determinante de la matriz no es cero.\n",
    "\n",
    "Para calcular la inversa de una matriz, primero debemos asegurarnos de que la matriz sea cuadrada (número de filas igual al número de columnas) y su determinante no sea cero.\n",
    "\n",
    "Consideremos la siguiente matriz $A$ para el ejemplo:\n",
    "\n",
    "$$\n",
    "A = \\begin{pmatrix}\n",
    "1 & 2 & 3 \\\\\n",
    "0 & 1 & 4 \\\\\n",
    "5 & 6 & 0\n",
    "\\end{pmatrix}\n",
    "$$\n",
    "\n",
    "Podemos calcular la inversa de $A$ usando NumPy:"
   ]
  },
  {
   "cell_type": "code",
   "execution_count": 39,
   "id": "ba66a62d-4ff4-4c68-9f0e-0ae7406c4c91",
   "metadata": {},
   "outputs": [
    {
     "name": "stdout",
     "output_type": "stream",
     "text": [
      "Inversa de la matriz:\n",
      " [[-0.21052632  0.26315789]\n",
      " [ 0.15789474  0.05263158]]\n"
     ]
    }
   ],
   "source": [
    "# Definir la matriz\n",
    "A = np.array([[1, 2, 3], [0, 1, 4], [5, 6, 0]])\n",
    "\n",
    "# Cálculo de la inversa de una matriz\n",
    "inv = np.linalg.inv(A)\n",
    "print(\"Inversa de la matriz:\\n\", inv)\n"
   ]
  },
  {
   "cell_type": "markdown",
   "id": "fa484762-9c39-4906-8657-a289f34ffcfe",
   "metadata": {},
   "source": [
    "### Autovalores y Autovectores\n",
    "\n",
    "Los autovalores y autovectores son conceptos fundamentales en álgebra lineal, con aplicaciones importantes en análisis de estabilidad, mecánica cuántica, análisis de componentes principales (PCA), entre otros. Los autovalores son escalares asociados a una matriz cuadrada que, junto con sus autovectores correspondientes, revelan propiedades esenciales de la matriz.\n",
    "\n",
    "Consideremos una matriz cuadrada $A$. Un escalar $\\lambda$ es un autovalor de $A$ si existe un vector no nulo $v$ tal que:\n",
    "\n",
    "$$\n",
    "Av = \\lambda v\n",
    "$$\n",
    "\n",
    "En esta ecuación, $v$ es un autovector de $A$ correspondiente al autovalor $\\lambda$. Intuitivamente, esta ecuación dice que la multiplicación de $A$ por $v$ resulta en un vector que es un múltiplo escalar de $v$, donde el factor de multiplicación es $\\lambda$.\n",
    "\n",
    "Vamos a calcular los autovalores y autovectores de una matriz usando NumPy en Python:"
   ]
  },
  {
   "cell_type": "code",
   "execution_count": 41,
   "id": "befd3869-c0cb-4ebc-a4c1-f5ff747a3171",
   "metadata": {},
   "outputs": [
    {
     "name": "stdout",
     "output_type": "stream",
     "text": [
      "Autovalores: [-3.10977223  6.10977223]\n",
      "Autovectores:\n",
      " [[-0.92133794 -0.57524923]\n",
      " [ 0.38876264 -0.81797819]]\n"
     ]
    }
   ],
   "source": [
    "# Cálculo de autovalores y autovectores\n",
    "eigenvalues, eigenvectors = np.linalg.eig(matrix)\n",
    "print(\"Autovalores:\", eigenvalues)\n",
    "print(\"Autovectores:\\n\", eigenvectors)\n"
   ]
  },
  {
   "cell_type": "markdown",
   "id": "14f3a330-2bc8-4a77-959b-a4b8224b9f8a",
   "metadata": {},
   "source": [
    "### Diagonal de una Matriz\n",
    "\n",
    "La diagonal de una matriz $A$ está compuesta por los elementos $a_{ij}$ donde $i = j$. Es decir, son los elementos que se encuentran en la línea que va desde la esquina superior izquierda hasta la esquina inferior derecha de la matriz.\n",
    "\n",
    "Para una matriz cuadrada $A$ de tamaño $n \\times n$, representada como:\n",
    "\n",
    "$$\n",
    "A = \\begin{pmatrix}\n",
    "a_{11} & a_{12} & \\cdots & a_{1n} \\\\\n",
    "a_{21} & a_{22} & \\cdots & a_{2n} \\\\\n",
    "\\vdots & \\vdots & \\ddots & \\vdots \\\\\n",
    "a_{n1} & a_{n2} & \\cdots & a_{nn}\n",
    "\\end{pmatrix}\n",
    "$$\n",
    "\n",
    "Su diagonal principal se puede representar como:\n",
    "\n",
    "$$\n",
    "\\text{diag}(A) = \\begin{pmatrix}\n",
    "a_{11} \\\\\n",
    "a_{22} \\\\\n",
    "\\vdots \\\\\n",
    "a_{nn}\n",
    "\\end{pmatrix}\n",
    "$$\n",
    "\n",
    "La diagonal principal de una matriz es importante en varios aspectos del álgebra lineal y el análisis numérico, como el cálculo de trazas y determinantes, y juega un papel crucial en la teoría espectral de matrices.\n",
    "\n",
    "En NumPy, podemos extraer la diagonal principal de una matriz utilizando la función `np.diag()`. Veamos cómo se hace esto con una matriz genérica $A$.\n"
   ]
  },
  {
   "cell_type": "code",
   "execution_count": 46,
   "id": "e30dc457-f91e-41e0-a0be-e3500d957554",
   "metadata": {},
   "outputs": [
    {
     "name": "stdout",
     "output_type": "stream",
     "text": [
      "Matriz Original A:\n",
      "[[1 2 3]\n",
      " [4 5 6]\n",
      " [7 8 9]]\n",
      "\\nDiagonal principal de A:\n",
      "[1 5 9]\n"
     ]
    }
   ],
   "source": [
    "# Creando una matriz bidimensional\n",
    "A = np.array([[1, 2, 3], [4, 5, 6], [7, 8, 9]])\n",
    "print(\"Matriz Original A:\")\n",
    "print(A)\n",
    "\n",
    "# Extrayendo la diagonal principal\n",
    "diag_A = np.diag(A)\n",
    "print(\"\\\\nDiagonal principal de A:\")\n",
    "print(diag_A)"
   ]
  },
  {
   "cell_type": "markdown",
   "id": "e34a07e9-06b4-4e8e-925a-47e94f06e0ab",
   "metadata": {},
   "source": [
    "La función `np.diag()` tiene un doble propósito: cuando se le proporciona una matriz, devuelve la diagonal principal, y cuando se le proporciona un array unidimensional, crea una matriz cuadrada con ese array en la diagonal principal y ceros en todas las demás posiciones. Esto facilita la construcción de matrices a partir de sus diagonales y viceversa."
   ]
  },
  {
   "cell_type": "code",
   "execution_count": 47,
   "id": "a54635ba-2e00-4827-a229-78defefc2aa4",
   "metadata": {},
   "outputs": [
    {
     "name": "stdout",
     "output_type": "stream",
     "text": [
      "\\nNueva Matriz con la diagonal de A:\n",
      "[[1 0 0]\n",
      " [0 5 0]\n",
      " [0 0 9]]\n"
     ]
    }
   ],
   "source": [
    "# Creando una matriz cuadrada usando np.diag() con un array unidimensional\n",
    "new_matrix = np.diag(diag_A)\n",
    "print(\"\\\\nNueva Matriz con la diagonal de A:\")\n",
    "print(new_matrix)"
   ]
  },
  {
   "cell_type": "code",
   "execution_count": null,
   "id": "f09392c4-d330-4fa2-a72a-5b11f2642d83",
   "metadata": {},
   "outputs": [],
   "source": []
  }
 ],
 "metadata": {
  "kernelspec": {
   "display_name": "Python 3 (ipykernel)",
   "language": "python",
   "name": "python3"
  },
  "language_info": {
   "codemirror_mode": {
    "name": "ipython",
    "version": 3
   },
   "file_extension": ".py",
   "mimetype": "text/x-python",
   "name": "python",
   "nbconvert_exporter": "python",
   "pygments_lexer": "ipython3",
   "version": "3.11.6"
  }
 },
 "nbformat": 4,
 "nbformat_minor": 5
}
