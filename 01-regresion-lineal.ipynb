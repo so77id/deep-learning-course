{
 "cells": [
  {
   "cell_type": "markdown",
   "id": "2c78f698-6ee6-416e-816b-cf217deaf55b",
   "metadata": {},
   "source": [
    "# Clase 01: Regresion Lineal\n",
    "\n",
    "## Indice\n",
    "- Preambulo\n",
    "    - Linealidad\n",
    "    - Algebra Lineal\n",
    "        - Vectores y Matrices\n",
    "        - Producto interno\n",
    "            - producto interno vs producto punto \n",
    "            - Proyección\n",
    "    - Calculo\n",
    "        - Derivada en una dimension\n",
    "        - Regla de la cadena\n",
    "        - Derivadas parciales\n",
    "        - Gradiente\n",
    "    - Optimización\n",
    "        - Minimización/Maximización a traves de derivadas\n",
    "            - 1 D\n",
    "        - Minimización/Maximización a traves de derivadas parciales\n",
    "            - 2D+ (Gradiente como aparece y se usa)\n",
    "    \n"
   ]
  },
  {
   "cell_type": "markdown",
   "id": "1c1bbb88",
   "metadata": {},
   "source": [
    "## Preámbulo"
   ]
  },
  {
   "cell_type": "markdown",
   "id": "b3b3ce21-1e0d-4ff4-b4be-2b4483d02d86",
   "metadata": {},
   "source": [
    "### Linealidad\n",
    "\n",
    "Definición (1):\n",
    "un mapa $f: U \\rightarrow V$, donde $U$ y $V$ son espacios vectoriales, se denomina lineal si cumple con las siguientes propiedades:\n",
    "1. Dado $\\mathbf{x}$, $\\mathbf{y}\\in U$: $f(x+y) = f(x) + f(y)$\n",
    "2. Dado $\\alpha \\in \\mathbb{R}$: $f(\\alpha x) = \\alpha f(x)$\n",
    "3. Corolario: $f(0_{U}) = 0_{V}$"
   ]
  },
  {
   "cell_type": "code",
   "execution_count": 25,
   "id": "52fc8922-33ae-42ae-bda7-f792ef3250f6",
   "metadata": {},
   "outputs": [
    {
     "name": "stdout",
     "output_type": "stream",
     "text": [
      "f(3 + 2) = f(3) + f(2) =>  10 = 6 + 4\n"
     ]
    }
   ],
   "source": [
    "def f(x: int):\n",
    "    return 2*x\n",
    "\n",
    "print (f\"f(3 + 2) = f(3) + f(2) =>  {f(3+2)} = {f(3)} + {f(2)}\")\n"
   ]
  },
  {
   "cell_type": "code",
   "execution_count": 26,
   "id": "d92113fa-3159-449e-8c27-914d9bc20775",
   "metadata": {},
   "outputs": [
    {
     "name": "stdout",
     "output_type": "stream",
     "text": [
      "f(3 + 2) != f(3) + f(2) =>  25 != 9 + 4\n"
     ]
    }
   ],
   "source": [
    "def f(x):\n",
    "    return x**2\n",
    "print (f\"f(3 + 2) != f(3) + f(2) =>  {f(3+2)} != {f(3)} + {f(2)}\")"
   ]
  },
  {
   "cell_type": "markdown",
   "id": "263da9cc-6841-4429-8480-d09ccccbd6b3",
   "metadata": {},
   "source": [
    "## Algebra Lineal\n",
    "\n",
    "### Vectores y Matrices\n",
    "\n",
    "Los vectores y matrices son elementos fundamentales del algebra lineal.\n",
    "Para poder desarrollar el curso de Deep Learning necesitaremos responder estas tres preguntas:\n",
    "- como se operan estos objetos?\n",
    "- que propiedades tienen?\n",
    "- que representan en terminos de información? o porque se utilizan para representar datos?\n",
    "\n",
    "Los Vectores y Matrices se utilizan bajo el contexto de espacio vectorial real (Utilizaremos numeros reales $\\mathbb{R}$)\n",
    "Un espacio para considerase vectorial debe cumplir con 10 axiomas:\n",
    "\n",
    "1. Cerradura bajo la suma: si $\\mathbf{x} \\in V$ y  $\\mathbf{y} \\in V$ entonces $\\mathbf{x} + \\mathbf{y} \\in V$\n",
    "2. Asociatividad de la suma de vectores: $(\\mathbf{x} + \\mathbf{y}) + \\mathbf{z} = \\mathbf{x} + (\\mathbf{y} + \\mathbf{z})$\n",
    "3. Existe un vector/matriz $0$ tal que para todo $\\mathbf{x} \\in V$, $\\mathbf{x} + 0 = 0 + \\mathbf{x} = \\mathbf{x}$\n",
    "4. Conmutatividad de la suma de vectores: $\\mathbf{x} + \\mathbf{y} = \\mathbf{y} + \\mathbf{x}$\n",
    "5. Cerradura en la multiplicación de escalares: $\\alpha \\cdot \\mathbf{x} \\in V$, tal que $\\alpha \\in \\mathbb{R}$ y $\\mathbf{x} \\in V$\n",
    "6. Distribucion de suma de escalares: $(\\alpha + \\beta) \\cdot \\mathbf{x} = \\alpha \\cdot \\mathbf{x} + \\beta \\cdot \\mathbf{x}$ tal que $\\alpha$ , $\\beta \\in \\mathbb{R}$, y $\\mathbf{x} \\in V$\n",
    "7. Distribución de suma vectorial: $\\alpha \\cdot (\\mathbf{x} + \\mathbf{y}) = \\alpha \\cdot \\mathbf{x} + \\alpha \\cdot \\mathbf{y}$ tal que $\\alpha \\in \\mathbb{R}$, y $\\mathbf{x}$, $\\mathbf{y} \\in V$\n",
    "8. Distribución de escalares: $\\alpha \\cdot (\\beta + \\gamma) = \\alpha \\cdot \\beta + \\alpha \\cdot \\gamma$ tal que $\\alpha, \\beta, \\gamma \\in \\mathbb{R}$.\n",
    "9. Ley asociativa de multiplicacion por escalares: $\\alpha \\cdot (\\beta \\cdot \\mathbf{x}) = (\\alpha \\cdot \\beta) \\cdot \\mathbf{x}$ tal que $\\alpha, \\beta \\in \\mathbb{R}$, y $\\mathbf{x} \\in V$\n",
    "10. Identico multiplicativo escalar: para cada vector $\\mathbf{x} \\in V$, 1 $\\cdot \\mathbf{x} = \\mathbf{x}$ tal que $\\mathbf{x} \\in V$\n",
    "\n",
    "Ej:\n",
    "- El espacio de vectores de dimension $n$, tambien escrito como $\\mathbb{R}^{n}$ cumple con los axiomas\n",
    "- El espacio de Matrices de dimension $n \\times n$, tambien escrito como $\\mathbb{R}^{n \\times n}$ cumple con los axiomas\n",
    "\n",
    "Las Matrices se pueden pensar como funciones lineales, es decir cumplen con la definicion de linealidad vista anteriormente.\n",
    "La librería de ```python``` que permite trabajar con definiciones y operaciones del álgebra lineal se llama ```numpy```"
   ]
  },
  {
   "cell_type": "code",
   "execution_count": 27,
   "id": "c0fa7838-7de9-4ccb-8979-56dbf6338c20",
   "metadata": {},
   "outputs": [
    {
     "name": "stdout",
     "output_type": "stream",
     "text": [
      "f(x+y) = f(x) + f(y)\n",
      "[[0]\n",
      " [0]]\n",
      "f(x):\n",
      " [[3]\n",
      " [7]]\n",
      "f(y):\n",
      " [[-3]\n",
      " [-7]]\n"
     ]
    }
   ],
   "source": [
    "import numpy as np\n",
    "def f(x: np.array):\n",
    "    m = np.array([[1,2],[3,4]])\n",
    "    return m@x\n",
    "\n",
    "x = np.array([[1], [1]])\n",
    "y = np.array([[-1], [-1]])\n",
    "\n",
    "print(f\"f(x+y) = f(x) + f(y)\")\n",
    "print(f\"{f(x+y)}\")\n",
    "print(f\"f(x):\\n {f(x)}\")\n",
    "print(f\"f(y):\\n {f(y)}\")\n",
    "# Imprimir bonito"
   ]
  },
  {
   "cell_type": "markdown",
   "id": "88a6c26e-c4b0-4d73-9756-12c93519a37a",
   "metadata": {},
   "source": [
    "#### Operaciones sobre vectores y matrices\n",
    "\n",
    "- Las matrices son funciones que transforman nuestros vectores, son mapas lineales. Una matriz $A\\in \\mathbb{R}^{m\\times n}$ transforma un vector $\\mathbf{x}\\in \\mathbb{R}^{n}$ a un nuevo vector $\\mathbf{y} \\in  \\mathbb{R}^{m}$ a través de la operación $M\\mathbf{x}$ llamada producto matriz vector.\n",
    "- Las matrices ademas contienen información de nuestros datos (mas adelante veremos como los datos son representados en la matriz)\n",
    "- Existen maneras de caracterizar las matrices para medir la cantidad de información que poseen:\n",
    "    - Tamaño: Se mide a traves de la norma matricial.\n",
    "    - Cantidad de información: Se puede tener una nocion de la cantidad de información contando la cantidad de auto valores diferentes de cero.\n",
    "    - ¿Cómo una matriz transforma un vector?: se puede saber como una matriz estire/comprime o rota a un vector a traves de sus espacios fundamentales (SVD)\n",
    " \n",
    "Por ahora nos interesa entender como se hacen las operaciones fundamentales entre vectores y matrices:\n",
    "1. Suma de matrices\n",
    "2. Suma de vectores\n",
    "3. Multiplicar matriz por escalar\n",
    "4. Multiplicar vector por escalar\n",
    "5. Producto interno entre vectores\n",
    "6. Producto matriz/vector\n",
    "7. Producto de matrices"
   ]
  },
  {
   "cell_type": "markdown",
   "id": "b5e5ff43",
   "metadata": {},
   "source": [
    "## Operaciones fundamentales\n",
    "\n",
    "1. Suma de matrices: la suma de matrices se realiza componente a componente para matrices de dimension $\\mathbb{R}^{m\\times n}$. Es decir, dadas las matrices $A$ y $B\\in \\mathbb{R}^{m \\times n}$ donde $A = a_{ij}$, $B = b_{ij}$ con $i=1,\\dots,m$ y $j=1,\\dots,m$ son las componentes, la suma es dada por: \n",
    "\\begin{equation*}\n",
    "A + B = a_{ij}+b_{ij}\n",
    "\\end{equation*}"
   ]
  },
  {
   "cell_type": "code",
   "execution_count": 28,
   "id": "e1ac8f3f-4a7d-4498-8964-d8af30dfb756",
   "metadata": {},
   "outputs": [],
   "source": [
    "np.random.seed(0) #reproducibilidad del notebook"
   ]
  },
  {
   "cell_type": "code",
   "execution_count": 29,
   "id": "7df5038b-ba34-4356-80ac-6eb74978423e",
   "metadata": {},
   "outputs": [],
   "source": [
    "m = 3\n",
    "n = 2\n",
    "A = np.random.randint(0,10,(m,n))\n",
    "B = np.random.randint(0,10,(m,n))"
   ]
  },
  {
   "cell_type": "code",
   "execution_count": 30,
   "id": "1d30b550",
   "metadata": {},
   "outputs": [
    {
     "data": {
      "text/plain": [
       "array([[5, 0],\n",
       "       [3, 3],\n",
       "       [7, 9]])"
      ]
     },
     "execution_count": 30,
     "metadata": {},
     "output_type": "execute_result"
    }
   ],
   "source": [
    "A"
   ]
  },
  {
   "cell_type": "code",
   "execution_count": 31,
   "id": "452bf2be",
   "metadata": {},
   "outputs": [
    {
     "data": {
      "text/plain": [
       "array([[3, 5],\n",
       "       [2, 4],\n",
       "       [7, 6]])"
      ]
     },
     "execution_count": 31,
     "metadata": {},
     "output_type": "execute_result"
    }
   ],
   "source": [
    "B"
   ]
  },
  {
   "cell_type": "code",
   "execution_count": 32,
   "id": "e4ebec35",
   "metadata": {},
   "outputs": [
    {
     "data": {
      "text/plain": [
       "array([[ 8,  5],\n",
       "       [ 5,  7],\n",
       "       [14, 15]])"
      ]
     },
     "execution_count": 32,
     "metadata": {},
     "output_type": "execute_result"
    }
   ],
   "source": [
    "A+B"
   ]
  },
  {
   "cell_type": "code",
   "execution_count": 33,
   "id": "521a52c8",
   "metadata": {},
   "outputs": [
    {
     "data": {
      "text/plain": [
       "array([[ 2, -5],\n",
       "       [ 1, -1],\n",
       "       [ 0,  3]])"
      ]
     },
     "execution_count": 33,
     "metadata": {},
     "output_type": "execute_result"
    }
   ],
   "source": [
    "A-B"
   ]
  },
  {
   "cell_type": "markdown",
   "id": "03331ed1",
   "metadata": {},
   "source": [
    "2. Suma de vectores: La lógica de suma es análoga para vectores (sean filas o columnas)"
   ]
  },
  {
   "cell_type": "code",
   "execution_count": 34,
   "id": "c31d24da",
   "metadata": {},
   "outputs": [
    {
     "name": "stdout",
     "output_type": "stream",
     "text": [
      "vector a: [[8 8]]\n",
      "vector a: [[1 6]]\n",
      "vector a+b: [[ 9 14]]\n",
      "vector a-b: [[7 2]]\n"
     ]
    }
   ],
   "source": [
    "# Vectores fila\n",
    "n = 2\n",
    "a = np.random.randint(0,10,(1,n))\n",
    "b = np.random.randint(0,10,(1,n))\n",
    "\n",
    "print(f\"vector a: {a}\")\n",
    "print(f\"vector a: {b}\")\n",
    "print(f\"vector a+b: {a+b}\")\n",
    "print(f\"vector a-b: {a-b}\")"
   ]
  },
  {
   "cell_type": "markdown",
   "id": "80546ee0",
   "metadata": {},
   "source": [
    "3-4. Multiplicación matriz por escalar o vector por escalar"
   ]
  },
  {
   "cell_type": "code",
   "execution_count": 35,
   "id": "15b49f1f",
   "metadata": {},
   "outputs": [
    {
     "data": {
      "text/plain": [
       "array([[15,  0],\n",
       "       [ 9,  9],\n",
       "       [21, 27]])"
      ]
     },
     "execution_count": 35,
     "metadata": {},
     "output_type": "execute_result"
    }
   ],
   "source": [
    "alpha = 3\n",
    "3*A"
   ]
  },
  {
   "cell_type": "code",
   "execution_count": 36,
   "id": "9d8a46aa",
   "metadata": {},
   "outputs": [
    {
     "data": {
      "text/plain": [
       "array([[24, 24]])"
      ]
     },
     "execution_count": 36,
     "metadata": {},
     "output_type": "execute_result"
    }
   ],
   "source": [
    "alpha*a"
   ]
  },
  {
   "cell_type": "markdown",
   "id": "af0e8436",
   "metadata": {},
   "source": [
    "5. Producto interno\n",
    "\n",
    "Dentro de un espacio vectorial un producto interno es una función o mapa definido como:\n",
    "\n",
    "\\begin{align*}\n",
    "\\langle \\cdot, \\cdot\\rangle :~&  U\\times U \\rightarrow \\mathbb{K}\\\\\n",
    "& (\\mathbf{x},\\mathbf{y}) \\rightarrow a = \\langle \\mathbf{x},\\mathbf{y} \\rangle\n",
    "\\end{align*}\n",
    "\n",
    "donde $\\mathbb{K}$ es un cuerpo sobre el que está definido. Es decir, la función toma un par de vectores y los convierte en un solo número real.\n",
    "Esta operación permitirá comparar vectores o saber si son perpendiculares. También permite crear nuevas funciones, por ejemplo ```proyectores```.\n",
    "\n",
    "Para fines de este curso $\\mathbb{K} = \\mathbb{R}$. Dados $\\mathbf{x}$,$\\mathbf{y}$,$\\mathbf{z}\\in U$ algunas propiedades del producto interno: \n",
    "\n",
    "- Linealidad: $ \\langle \\alpha \\cdot \\mathbf{x} + \\beta \\cdot \\mathbf{y}, \\mathbf{z} \\rangle = \\alpha \\cdot\\langle \\mathbf{x}, \\mathbf{z} \\rangle + \\beta \\cdot \\langle \\mathbf{y}, \\mathbf{z} \\rangle$ con $\\alpha$, $\\beta \\in \\mathbb{R}$\n",
    "\n",
    "- Hermiticidad: $\\langle \\mathbf{x},\\mathbf{y} \\rangle = \\langle \\mathbf{y},\\mathbf{x} \\rangle$\n",
    "\n",
    "- Definida positiva: $\\langle \\mathbf{x},\\mathbf{x} \\rangle \\geq 0$ y $\\langle \\mathbf{x},\\mathbf{x} \\rangle = 0 $, si y solo si $\\mathbf{x}= 0$\n",
    "\n",
    "Estas propiedades son fundamentales para enteneder conceptos relacionados a similaridad, producto de matrices y tamaño de vectores. La información que trabajemos a futuro para entrenar nuestros modelos se representará a través de vectores y matrices, siendo la operación ```producto punto``` un tipo de producto interno que cumple con las propiedades anteriores y que usaremos para operar tanto en redes neuronales como otros modelos.\n",
    "\n",
    "El producto punto es definido para el caso de vectores en $\\mathbb{R}^{n}$ de la siguiente forma:\n",
    "\n",
    "\\begin{equation}\n",
    "    \\langle \\mathbf{a}, \\mathbf{b} \\rangle = \\sum_{i=0}^{n} a_i b_i\n",
    "\\end{equation}\n",
    "\n",
    "**Ejemplo** \n",
    "\n",
    "Dados los vectores:\n",
    "\n",
    "$\n",
    "\\mathbf{a} = \n",
    "\\begin{pmatrix}\n",
    "a_0 \\\\\n",
    "a_1 \\\\\n",
    "a_2\n",
    "\\end{pmatrix},\n",
    "\\quad\n",
    "\\mathbf{b} = \n",
    "\\begin{pmatrix}\n",
    "b_0 \\\\\n",
    "b_1 \\\\\n",
    "b_2\n",
    "\\end{pmatrix}\n",
    "$\n",
    "\n",
    "Calculamos el producto interno de la siguiente forma: \n",
    "\n",
    "$\\langle \\mathbf{a}, \\mathbf{b} \\rangle = a_0 \\cdot b_0 + a_1 \\cdot b_1 + a_2 \\cdot b_2$\n",
    "\n",
    "En forma vectorial\n",
    "$\n",
    "\\begin{pmatrix}\n",
    "a_0 &\n",
    "a_1 &\n",
    "a_2\n",
    "\\end{pmatrix}_{1\\times 3}\n",
    "*\n",
    "\\begin{pmatrix}\n",
    "b_0 \\\\\n",
    "b_1 \\\\\n",
    "b_2 \n",
    "\\end{pmatrix}_{3\\times 1}= \\mathbf{a}^{T}\\mathbf{b}= (a_0b_0 + a_1b_1 + a_2b_2)_{1\\times 1}$\n",
    "\n",
    "Observe que las dimensiones \"externas\" de cada vector, en este caso 1, determinan la dimensión final que en este caso es un escalar $1\\times 1 = 1$ este solo posee una dimensión. Las dimensiones \"internas\" dadas por 3 deben coincidir para poder operar los vectores. Veamos algunos ejemplos en ```numpy``` para observar tanto el caso correcto de uso como el caso que puede dar error. Este tipo de error es común al momento de construir modelos desde cero.\n",
    "\n",
    "Observe además que en la seguidilla de igualdades estamos viendo diferentes formas de notación para la misma operación.\n",
    "\n",
    "Por convención se suele ocupar un vector en su forma columna. "
   ]
  },
  {
   "cell_type": "code",
   "execution_count": 37,
   "id": "e7806ecb",
   "metadata": {},
   "outputs": [
    {
     "name": "stdout",
     "output_type": "stream",
     "text": [
      "vector a: [[7]\n",
      " [7]] con dimensión (2, 1)\n",
      "vector a: [[8]\n",
      " [1]] con dimensión (2, 1)\n"
     ]
    }
   ],
   "source": [
    "# Vectores fila\n",
    "n = 2\n",
    "a = np.random.randint(0,10,(n,1))\n",
    "b = np.random.randint(0,10,(n,1))\n",
    "\n",
    "print(f\"vector a: {a} con dimensión {a.shape}\")\n",
    "print(f\"vector a: {b} con dimensión {b.shape}\")"
   ]
  },
  {
   "cell_type": "code",
   "execution_count": 38,
   "id": "c17fbd76",
   "metadata": {},
   "outputs": [
    {
     "name": "stdout",
     "output_type": "stream",
     "text": [
      "vector a*b: [[63]] con dimensión (1, 1)\n"
     ]
    }
   ],
   "source": [
    "print(f\"vector a*b: {np.dot(a.T,b)} con dimensión {np.dot(a.T,b).shape}\")"
   ]
  },
  {
   "cell_type": "code",
   "execution_count": 39,
   "id": "dfbeb21d",
   "metadata": {},
   "outputs": [
    {
     "name": "stdout",
     "output_type": "stream",
     "text": [
      "vector a*b: [[63]] con dimensión (1, 1)\n"
     ]
    }
   ],
   "source": [
    "print(f\"vector a*b: {a.T@b} con dimensión {(a.T@b).shape}\")"
   ]
  },
  {
   "cell_type": "markdown",
   "id": "f6438146",
   "metadata": {},
   "source": [
    "### Interpretación geométrica del producto interno"
   ]
  },
  {
   "cell_type": "markdown",
   "id": "6d530e6d",
   "metadata": {},
   "source": [
    "El producto interno puede interpretarse geométricamente. La definción geométrica esta dada por la siguiente fórmula: \n",
    "\n",
    "\n",
    "$\n",
    "\\langle \\mathbf{a},\\mathbf{b} \\rangle = ||\\mathbf{a}||_{2}\\cdot ||\\mathbf{b}||_{2} \\cdot \\text{cos}(\\theta)\n",
    "$\n",
    "\n",
    "Para unir las dos definiciones es necesario probar que si $\\mathbf{a}$, $\\mathbf{b}$ son vectores unitarios entonces: $\\langle \\mathbf{a},\\mathbf{b} \\rangle  = \\text{cos}(\\theta)$. Si te interesa la prueba la puedes encontrar [en este link!](https://math.stackexchange.com/questions/805954/what-does-the-dot-product-of-two-vectors-represent).\n",
    "\n",
    "Puedes jugar con el siguiente [link](https://www.geogebra.org/m/q4nssesr) interactivo de Geogebra para entender intuitivamente que ocurre con el valor del producto interno (área del paralelógramo) cuando variamos el ángulo entre los dos vectores. Si los vectores se encuentran perpendiculares, es decir, a $\\dfrac{\\pi}{2}$ radianes o 90 grados el valor es mínimo:\n",
    "\n",
    "- $\n",
    "\\langle \\mathbf{a},\\mathbf{b} \\rangle = 0 \\quad \\text{Si} \\quad \\theta = \\dfrac{\\pi}{2}\n",
    "$\n",
    "\n",
    "y es máximo cuando $ \\theta = 0$\n",
    "\n",
    "Además recordamos que $||\\cdot||_{2}$ representa la norma 2 vectorial. Esto es una de las diferentes formas que existen para medir el tamaño de un vector. Debido a la naturaleza del producto interno existe una relación entre la norma y el producto. La norma 2 euclideana, o tamaño de un vector se define como $||\\cdot||_{2}: \\mathbb{R}^{n}\\rightarrow \\mathbb{R}$ dada por: \n",
    "\n",
    "$||\\mathbf{x}||_{2} = \\sqrt{x_{0}^{2}+x_{1}^{2}+\\dots+x_{n}^{2}}$ siendo $x_i$ con $i=0,\\dots,n$ las componentes del vector $\\mathbf{x}$\n",
    "\n",
    "Observe que el producto interno en su forma:\n",
    "\n",
    "$ \\langle \\mathbf{x}, \\mathbf{x} \\rangle = \\sum_{i=0}^{n} x_i x_i = \\sum_{i=0}^{n} x_{i}^{2} = x_0^{2}+x_1^{2}+\\dots+x_n^{2}$\n",
    "\n",
    "\n",
    "Es el cuadrado de la norma 2, por lo tanto: \n",
    "$ \\langle \\mathbf{x}, \\mathbf{x} \\rangle = ||\\mathbf{x}||_{2}^{2} = \\mathbf{x}^{T}\\mathbf{x}$\n"
   ]
  },
  {
   "cell_type": "code",
   "execution_count": 40,
   "id": "05678460",
   "metadata": {},
   "outputs": [],
   "source": [
    "from numpy import linalg as LA"
   ]
  },
  {
   "cell_type": "code",
   "execution_count": 41,
   "id": "426503b4",
   "metadata": {},
   "outputs": [],
   "source": [
    "x = np.array([1,1,1,1])"
   ]
  },
  {
   "cell_type": "code",
   "execution_count": 42,
   "id": "05f423ad",
   "metadata": {},
   "outputs": [
    {
     "data": {
      "text/plain": [
       "4.0"
      ]
     },
     "execution_count": 42,
     "metadata": {},
     "output_type": "execute_result"
    }
   ],
   "source": [
    "LA.norm(x, 2)**2"
   ]
  },
  {
   "cell_type": "code",
   "execution_count": 43,
   "id": "64142fa9",
   "metadata": {},
   "outputs": [
    {
     "data": {
      "text/plain": [
       "4"
      ]
     },
     "execution_count": 43,
     "metadata": {},
     "output_type": "execute_result"
    }
   ],
   "source": [
    "np.dot(x,x)"
   ]
  },
  {
   "cell_type": "markdown",
   "id": "a6873b2e",
   "metadata": {},
   "source": [
    "Ya sabiendo operar vectores y matrices estamos en condiciones de mencionar que las redes neuronales y los modelos lineales que veremos en el futuro utilizan la siguiente forma: \n",
    "\n",
    "$\\mathbf{y} = W\\mathbf{x} + b$\n",
    "\n",
    "Un ejemplo podría estar dado por"
   ]
  },
  {
   "cell_type": "code",
   "execution_count": 44,
   "id": "b74fb6be",
   "metadata": {},
   "outputs": [],
   "source": [
    "W = np.random.rand(5,4)"
   ]
  },
  {
   "cell_type": "code",
   "execution_count": 45,
   "id": "80d7c7f8",
   "metadata": {},
   "outputs": [
    {
     "data": {
      "text/plain": [
       "array([[0.92559664, 0.07103606, 0.0871293 , 0.0202184 ],\n",
       "       [0.83261985, 0.77815675, 0.87001215, 0.97861834],\n",
       "       [0.79915856, 0.46147936, 0.78052918, 0.11827443],\n",
       "       [0.63992102, 0.14335329, 0.94466892, 0.52184832],\n",
       "       [0.41466194, 0.26455561, 0.77423369, 0.45615033]])"
      ]
     },
     "execution_count": 45,
     "metadata": {},
     "output_type": "execute_result"
    }
   ],
   "source": [
    "W"
   ]
  },
  {
   "cell_type": "code",
   "execution_count": 46,
   "id": "cccec783",
   "metadata": {},
   "outputs": [
    {
     "data": {
      "text/plain": [
       "(5,)"
      ]
     },
     "execution_count": 46,
     "metadata": {},
     "output_type": "execute_result"
    }
   ],
   "source": [
    "np.dot(W,x).shape"
   ]
  },
  {
   "cell_type": "code",
   "execution_count": 47,
   "id": "5cc5dc32",
   "metadata": {},
   "outputs": [],
   "source": [
    "b = np.array([1,1,1,1,1])"
   ]
  },
  {
   "cell_type": "code",
   "execution_count": 48,
   "id": "2b5984a8",
   "metadata": {},
   "outputs": [
    {
     "data": {
      "text/plain": [
       "array([2.10398039, 4.45940709, 3.15944153, 3.24979155, 2.90960157])"
      ]
     },
     "execution_count": 48,
     "metadata": {},
     "output_type": "execute_result"
    }
   ],
   "source": [
    "\n",
    "y = np.dot(W,x) + b\n",
    "y"
   ]
  },
  {
   "cell_type": "markdown",
   "id": "5405aabb",
   "metadata": {},
   "source": [
    "Las componentes de la matriz $W$ y las componentes del vector $b$ serán números que tendremos que aprender a través de alguna regla de aprendizaje. Las reglas de aprendizaje modernas requieren del uso de cálculo y optimización.\n",
    "\n",
    "\n",
    "## Recordando el hermoso Cálculo\n",
    "\n",
    "![Image](imgs/recuerdos_de_vietnam.png)\n",
    "\n",
    "\n",
    "1. Definició: Derivada en una dimensión. Sea $f$ una función continua tal que $f: \\mathbb{R}\\rightarrow \\mathbb{R}$, la función derivada de $f$ es definida por:\n",
    "\n",
    "$\n",
    "\\dfrac{d f(x)}{dx} = f'(x) = \\displaystyle{\\lim_{x \\to 0}} \\dfrac{f(x + h) - f(x)}{h}\n",
    "$\n",
    "\n",
    "La definición anterior es una abstracción. La idea es calcular la pendiente de la recta tangente a un punto de la función a través del uso de la trigonometría y la geometría. [Link para jugar con h: Ejemplo](https://www.malinc.se/math/calculus/diffatpointen.php)\n",
    "\n",
    "\n",
    "Numericamente tendríamos que realizar una aproximación, intentando tomar el $h$ más pequeño posible. "
   ]
  },
  {
   "cell_type": "code",
   "execution_count": 49,
   "id": "943f95f6",
   "metadata": {},
   "outputs": [],
   "source": [
    "import matplotlib.pyplot as plt\n",
    "\n",
    "def my_func(x: np.array)->np.array:\n",
    "    return x**2\n",
    "def derivada(my_func:np.array,x_ref: int,h: np.float64)->np.array:\n",
    "    return (my_func(x_ref+h)- my_func(x_ref))/h"
   ]
  },
  {
   "cell_type": "code",
   "execution_count": 57,
   "id": "cb82a888",
   "metadata": {},
   "outputs": [],
   "source": [
    "# Definir el rango de valores de x\n",
    "x = np.linspace(-5, 5, 100)\n",
    "\n",
    "# Elegir un punto de referencia x\n",
    "x_ref = 0\n",
    "\n",
    "# Calcular la derivada en ese punto con un valor de h\n",
    "h = 0.01\n",
    "\n",
    "derivative_result = derivada(my_func, x_ref, h)\n",
    "\n",
    "# Ecuacion de la recta tangete al punto donde calculamos la aproximacion de la deriada :D\n",
    "grafico_derivada_puntual = my_func(x_ref) + derivative_result*(x-x_ref)\n"
   ]
  },
  {
   "cell_type": "code",
   "execution_count": 58,
   "id": "dfef3fb5",
   "metadata": {},
   "outputs": [
    {
     "data": {
      "image/png": "[encoded data removed]",
      "text/plain": [
       "<Figure size 800x600 with 1 Axes>"
      ]
     },
     "metadata": {},
     "output_type": "display_data"
    }
   ],
   "source": [
    "# Calcular los valores de la función original\n",
    "y = my_func(x)\n",
    "\n",
    "# Crear el gráfico\n",
    "plt.figure(figsize=(8, 6))\n",
    "plt.plot(x, y, label='Función Original (x^2)')\n",
    "plt.plot(x_ref, my_func(x_ref), 'ro', label=f'Punto de Referencia (x={x_ref})')\n",
    "plt.plot(x, grafico_derivada_puntual, label='Derivada Aproximada')\n",
    "plt.xlabel('x')\n",
    "plt.ylabel('y')\n",
    "plt.title('Función Cuadrática y su Derivada Aproximada')\n",
    "plt.legend()\n",
    "plt.grid(True)\n",
    "\n",
    "# Mostrar el gráfico\n",
    "plt.show()"
   ]
  },
  {
   "cell_type": "markdown",
   "id": "d0d14c81",
   "metadata": {},
   "source": [
    "## Regla de la cadena"
   ]
  },
  {
   "cell_type": "markdown",
   "id": "3ccc72fa",
   "metadata": {},
   "source": [
    "Se utiliza cuando derivamos composicion de funciones. La composicion de funcion es cuando anidamos funciones, es decir aplicamos sucesivas veces una o varias funciones.\n",
    "\n",
    "Ej:\n",
    "    \n",
    "$f(x) = x + 1$\n",
    "\n",
    "$g(u) = u^2$\n",
    "\n",
    "Nosotros sabemos que las derivadas de $f$ y $g$ son dadas por: \n",
    "\n",
    "$f'(x) = 1$\n",
    "\n",
    "$g'(u) = 2u$\n",
    "\n",
    "Si tenemos que $u = f(x) = x +1$ entonces:\n",
    "\n",
    "$g(u) = g(f(x)) = (x + 1)^2 $\n",
    "\n",
    "(Definición 2) Ahora $g$ depende de $f$ y de $x$, entonces se define la derivada de la función compuesta $g$ por: \n",
    "\n",
    "$\\begin{equation}\\dfrac{dg(x)}{dx} = g(f(x))' \\cdot f(x)'\\end{equation} \\quad \\text{(Regla de la Cadena)}$ \n",
    "\n",
    "Luego, sustituimos las derivadas que calculamos previamente para cada función en la ecuación (1),\n",
    "recordando que $u = (x+1)$\n",
    "\n",
    "$\\dfrac{dg(x)}{dx} = 2 \\cdot u \\cdot 1 = 2 \\cdot (x + 1) \\cdot 1$\n"
   ]
  },
  {
   "cell_type": "markdown",
   "id": "11ac40db",
   "metadata": {},
   "source": [
    "Analicemos los resultaados numéricamente!"
   ]
  },
  {
   "cell_type": "code",
   "execution_count": 62,
   "id": "3bffa7ef",
   "metadata": {},
   "outputs": [],
   "source": [
    "def my_func_1(x: np.array)->np.array:\n",
    "    return x + 1\n",
    "def my_func_2(x: np.array)->np.array:\n",
    "    return my_func_1(x)**2\n",
    "def derivada(my_func:np.array,x_ref: int,h: np.float64)->np.array:\n",
    "    return (my_func(x_ref+h)- my_func(x_ref))/h"
   ]
  },
  {
   "cell_type": "code",
   "execution_count": 68,
   "id": "b1f53f44",
   "metadata": {},
   "outputs": [],
   "source": [
    "f = my_func_1(x)\n",
    "g = my_func_2(f)\n",
    "\n",
    "# Definir el rango de valores de x\n",
    "x = np.linspace(-5, 5, 100)\n",
    "\n",
    "# Elegir un punto de referencia x\n",
    "x_ref = 0\n",
    "\n",
    "# Calcular la derivada en ese punto con un valor de h\n",
    "h = 0.01\n",
    "\n",
    "derivative_result = derivada(my_func_2, x_ref, h)\n",
    "\n",
    "# Ecuacion de la recta tangete al punto donde calculamos la aproximacion de la deriada :D\n",
    "grafico_derivada_puntual = my_func_2(x_ref) + derivative_result*(x-x_ref)"
   ]
  },
  {
   "cell_type": "code",
   "execution_count": 69,
   "id": "bca93f2b",
   "metadata": {},
   "outputs": [
    {
     "data": {
      "image/png": "[encoded data removed]",
      "text/plain": [
       "<Figure size 800x600 with 1 Axes>"
      ]
     },
     "metadata": {},
     "output_type": "display_data"
    }
   ],
   "source": [
    "# Calcular los valores de la función original\n",
    "y = my_func_2(x)\n",
    "\n",
    "# Crear el gráfico\n",
    "plt.figure(figsize=(8, 6))\n",
    "plt.plot(x, y, label='Función Original (x^2)')\n",
    "plt.plot(x_ref, my_func_2(x_ref), 'ro', label=f'Punto de Referencia (x={x_ref})')\n",
    "plt.plot(x, grafico_derivada_puntual, label='Derivada Aproximada')\n",
    "plt.xlabel('x')\n",
    "plt.ylabel('y')\n",
    "plt.title('Función Cuadrática y su Derivada Aproximada')\n",
    "plt.legend()\n",
    "plt.grid(True)\n",
    "\n",
    "# Mostrar el gráfico\n",
    "plt.show()"
   ]
  },
  {
   "cell_type": "markdown",
   "id": "215f4d8e",
   "metadata": {},
   "source": [
    "3. Definición: Derivada parcial. Es análoga a la definciión de derivada en una variable, pero ahora $f$ es una función de más de una variable. \n",
    "\n",
    "\n",
    "$\n",
    "\\dfrac{\\partial f(x,y)}{\\partial x} = f'(x,y)_{x} = \\displaystyle{\\lim_{x \\to 0}} \\dfrac{f(x + h,y) - f(x,y)}{h}\n",
    "$\n",
    "\n",
    "\n",
    "observe el siguiente [link](https://www.geogebra.org/m/K3xnQRY8) con una explicación visual de las derivadas parciales. Es decir estamos calculando la derivada en una curva o trayectoria de la función de dos variables. Esto se extrapola a funciones de $n$ variables (pero ya no podemos tener una representación gráfica debido a la alta dimensión)"
   ]
  },
  {
   "cell_type": "code",
   "execution_count": null,
   "id": "6a44b636",
   "metadata": {},
   "outputs": [],
   "source": []
  }
 ],
 "metadata": {
  "kernelspec": {
   "display_name": "Python 3 (ipykernel)",
   "language": "python",
   "name": "python3"
  },
  "language_info": {
   "codemirror_mode": {
    "name": "ipython",
    "version": 3
   },
   "file_extension": ".py",
   "mimetype": "text/x-python",
   "name": "python",
   "nbconvert_exporter": "python",
   "pygments_lexer": "ipython3",
   "version": "3.11.6"
  }
 },
 "nbformat": 4,
 "nbformat_minor": 5
}
