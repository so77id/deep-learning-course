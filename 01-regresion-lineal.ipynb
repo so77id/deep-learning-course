{
 "cells": [
  {
   "cell_type": "markdown",
   "id": "2c78f698-6ee6-416e-816b-cf217deaf55b",
   "metadata": {},
   "source": [
    "# Clase 01: Regresion Lineal\n",
    "\n",
    "## Indice\n",
    "- Preambulo\n",
    "    - Linealidad\n",
    "    - Algebra Lineal\n",
    "        - Vectores y Matrices\n",
    "        - Producto interno\n",
    "            - producto interno vs producto punto \n",
    "            - Proyección\n",
    "    - Calculo\n",
    "        - Derivada en una dimension\n",
    "        - Regla de la cadena\n",
    "        - Derivadas parciales\n",
    "        - Gradiente\n",
    "    - Optimización\n",
    "        - Minimización/Maximización a traves de derivadas\n",
    "            - 1 D\n",
    "        - Minimización/Maximización a traves de derivadas parciales\n",
    "            - 2D+ (Gradiente como aparece y se usa)\n",
    "    \n"
   ]
  },
  {
   "cell_type": "markdown",
   "id": "b3b3ce21-1e0d-4ff4-b4be-2b4483d02d86",
   "metadata": {},
   "source": [
    "### Linealidad\n",
    "\n",
    "Definición (1):\n",
    "un mapa $f: U \\rightarrow V$, donde $U$ y $V$ son espacios vectoriales, se denomina lineal si cumple con las siguientes propiedades:\n",
    "1. Dado $\\mathbf{x}$, $\\mathbf{y}\\in U$: $f(x+y) = f(x) + f(y)$\n",
    "2. Dado $\\alpha \\in \\mathbb{R}$: $f(\\alpha x) = \\alpha f(x)$"
   ]
  },
  {
   "cell_type": "code",
   "execution_count": 12,
   "id": "52fc8922-33ae-42ae-bda7-f792ef3250f6",
   "metadata": {},
   "outputs": [
    {
     "name": "stdout",
     "output_type": "stream",
     "text": [
      "f(3 + 2) = f(3) + f(2) =>  10 = 6 + 4\n"
     ]
    }
   ],
   "source": [
    "def f(x: int):\n",
    "    return 2*x\n",
    "\n",
    "print (f\"f(3 + 2) = f(3) + f(2) =>  {f(3+2)} = {f(3)} + {f(2)}\")\n"
   ]
  },
  {
   "cell_type": "code",
   "execution_count": 27,
   "id": "d92113fa-3159-449e-8c27-914d9bc20775",
   "metadata": {},
   "outputs": [
    {
     "name": "stdout",
     "output_type": "stream",
     "text": [
      "f(3 + 2) != f(3) + f(2) =>  25 != 9 + 4\n"
     ]
    }
   ],
   "source": [
    "def f(x):\n",
    "    return x**2\n",
    "print (f\"f(3 + 2) != f(3) + f(2) =>  {f(3+2)} != {f(3)} + {f(2)}\")"
   ]
  },
  {
   "cell_type": "markdown",
   "id": "263da9cc-6841-4429-8480-d09ccccbd6b3",
   "metadata": {},
   "source": [
    "## Algebra Lineal\n",
    "\n",
    "### Vectores y Matrices\n",
    "\n",
    "Los vectores y matrices son elementos fundamentales del algebra lineal.\n",
    "Para poder desarrollar el curso de Deep Learning necesitaremos responder estas tres preguntas:\n",
    "- como se operan estos objetos?\n",
    "- que propiedades tienen?\n",
    "- que representan en terminos de información? o porque se utilizan para representar datos?\n",
    "\n",
    "Los Vectores y Matrices se utilizan bajo el contexto de espacio vectorial real (Utilizaremos numeros reales $\\mathbb{R}$)\n",
    "Un espacio para considerase vectorial debe cumplir con 10 axiomas:\n",
    "\n",
    "1. Cerradura bajo la suma: si $\\mathbf{x} \\in V$ y  $\\mathbf{y} \\in V$ entonces $\\mathbf{x} + \\mathbf{y} \\in V$\n",
    "2. Asociatividad de la suma de vectores: $(\\mathbf{x} + \\mathbf{y}) + \\mathbf{z} = \\mathbf{x} + (\\mathbf{y} + \\mathbf{z})$\n",
    "3. Existe un vector/matriz $0$ tal que para todo $\\mathbf{x} \\in V$, $\\mathbf{x} + 0 = 0 + \\mathbf{x} = \\mathbf{x}$\n",
    "4. Conmutatividad de la suma de vectores: $\\mathbf{x} + \\mathbf{y} = \\mathbf{y} + \\mathbf{x}$\n",
    "5. Cerradura en la multiplicación de escalares: $\\alpha \\cdot \\mathbf{x} \\in V$, tal que $\\alpha \\in \\mathbb{R}$ y $\\mathbf{x} \\in V$\n",
    "6. Distribucion de suma de escalares: $(\\alpha + \\beta) \\cdot \\mathbf{x} = \\alpha \\cdot \\mathbf{x} + \\beta \\cdot \\mathbf{x}$ tal que $\\alpha$ , $\\beta \\in \\mathbb{R}$, y $\\mathbf{x} \\in V$\n",
    "7. Distribución de suma vectorial: $\\alpha \\cdot (\\mathbf{x} + \\mathbf{y}) = \\alpha \\cdot \\mathbf{x} + \\alpha \\cdot \\mathbf{y}$ tal que $\\alpha \\in \\mathbb{R}$, y $\\mathbf{x}$, $\\mathbf{y} \\in V$\n",
    "8. Distribución de escalares: $\\alpha \\cdot (\\beta + \\gamma) = \\alpha \\cdot \\beta + \\alpha \\cdot \\gamma$ tal que $\\alpha, \\beta, \\gamma \\in \\mathbb{R}$.\n",
    "9. Ley asociativa de multiplicacion por escalares: $\\alpha \\cdot (\\beta \\cdot \\mathbf{x}) = (\\alpha \\cdot \\beta) \\cdot \\mathbf{x}$ tal que $\\alpha, \\beta \\in \\mathbb{R}$, y $\\mathbf{x} \\in V$\n",
    "10. Identico multiplicativo escalar: para cada vector $\\mathbf{x} \\in V$, 1 $\\cdot \\mathbf{x} = \\mathbf{x}$ tal que $\\mathbf{x} \\in V$\n",
    "\n",
    "Ej:\n",
    "- El espacio de vectores de dimension $n$, tambien escrito como $\\mathbb{R}^{n}$ cumple con los axiomas\n",
    "- El espacio de Matrices de dimension $n \\times n$, tambien escrito como $\\mathbb{R}^{n \\times n}$ cumple con los axiomas\n",
    "\n",
    "Las Matrices se pueden pensar como funciones lineales, es decir cumplen con la definicion de linealidad vista anteriormente."
   ]
  },
  {
   "cell_type": "code",
   "execution_count": 28,
   "id": "c0fa7838-7de9-4ccb-8979-56dbf6338c20",
   "metadata": {},
   "outputs": [
    {
     "name": "stdout",
     "output_type": "stream",
     "text": [
      "f(x+y) = f(x) + f(y)\n",
      "[[0]\n",
      " [0]]\n",
      "f(x):\n",
      " [[3]\n",
      " [7]]\n",
      "f(y):\n",
      " [[-3]\n",
      " [-7]]\n"
     ]
    }
   ],
   "source": [
    "import numpy as np\n",
    "def f(x: np.array):\n",
    "    m = np.array([[1,2],[3,4]])\n",
    "    return m@x\n",
    "\n",
    "x = np.array([[1], [1]])\n",
    "y = np.array([[-1], [-1]])\n",
    "\n",
    "print(f\"f(x+y) = f(x) + f(y)\")\n",
    "print(f\"{f(x+y)}\")\n",
    "print(f\"f(x):\\n {f(x)}\")\n",
    "print(f\"f(y):\\n {f(y)}\")\n",
    "# Imprimir bonito"
   ]
  },
  {
   "cell_type": "markdown",
   "id": "88a6c26e-c4b0-4d73-9756-12c93519a37a",
   "metadata": {},
   "source": [
    "#### Operaciones sobre vectores y matrices\n",
    "\n",
    "- Las matrices o funciones que transforman nuestros vectores.\n",
    "- Las matrices ademas contienen información de nuestros datos (mas adelante veremos como los datos son representados en la matriz)\n",
    "- Existen maneras de caracterizar las matrices para medir la cantidad de información que poseen:\n",
    "    - Tamaño: Se mide a traves de la norma matricial.\n",
    "    - Cantidad de información: Se puede tener una nocion de la cantidad de información contando la cantidad de auto valores diferentes de cero.\n",
    "    - Como una matriz transforma un vector?: se puede saber como una matriz estire/comprime o rota a un vector a traves de sus espacios fundamentales (SVD)\n",
    " \n",
    "Por ahora nos interesa entender como se hacen las operaciones fundamentales entre vectores y matrices:\n",
    "1. Suma de matrices\n",
    "2. Suma de vectores\n",
    "3. Multiplicar matriz por escalar\n",
    "4. Multiplicar vector por escalar\n",
    "5. Poducto interno entre vectores\n",
    "6. Producto matriz/vector\n",
    "7. Producto de matrices"
   ]
  },
  {
   "cell_type": "code",
   "execution_count": null,
   "id": "e1ac8f3f-4a7d-4498-8964-d8af30dfb756",
   "metadata": {},
   "outputs": [],
   "source": []
  },
  {
   "cell_type": "code",
   "execution_count": null,
   "id": "7df5038b-ba34-4356-80ac-6eb74978423e",
   "metadata": {},
   "outputs": [],
   "source": []
  }
 ],
 "metadata": {
  "kernelspec": {
   "display_name": "Python 3 (ipykernel)",
   "language": "python",
   "name": "python3"
  },
  "language_info": {
   "codemirror_mode": {
    "name": "ipython",
    "version": 3
   },
   "file_extension": ".py",
   "mimetype": "text/x-python",
   "name": "python",
   "nbconvert_exporter": "python",
   "pygments_lexer": "ipython3",
   "version": "3.11.6"
  }
 },
 "nbformat": 4,
 "nbformat_minor": 5
}
